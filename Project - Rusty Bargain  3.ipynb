{
 "cells": [
  {
   "cell_type": "markdown",
   "id": "9d8d96fd",
   "metadata": {},
   "source": [
    "# Project - Rusty Bargain "
   ]
  },
  {
   "cell_type": "markdown",
   "id": "96416288",
   "metadata": {},
   "source": [
    "## Table of Contents"
   ]
  },
  {
   "cell_type": "markdown",
   "id": "35150154",
   "metadata": {},
   "source": [
    "* [Project description](#Project_description)\n",
    "* [Data description](#Data_description)\n",
    "* [Import Libraries and Preprocess the Data](#Libraries)\n",
    "* [Prepare the data](#Prepare)\n",
    "    * [EDA](#EDA)\n",
    "    * [Prepare for ML](#Prepare_for_ML)\n",
    "* [Train different models with various hyperparameters](#train)\n",
    "    * [Split the data](#split)\n",
    "    * [Random Forest Regressor](#RandomForestRegressor)\n",
    "    * [LightGBM regressor](#LightGBM)\n",
    "    * [Catboost regressor](#Catboost)\n",
    "    * [XGBoost regressor](#XGBoost)\n",
    "* [Analyze the speed and quality of the models](#quality)\n",
    "* [Sanity check](#sanity)\n",
    "* [Conclusion](#conclusion)"
   ]
  },
  {
   "cell_type": "markdown",
   "id": "a051f9d9",
   "metadata": {},
   "source": [
    "## Project description <a class=\"anchor\" id=\"Project_description\"></a>"
   ]
  },
  {
   "cell_type": "markdown",
   "id": "9bf6ee2e",
   "metadata": {},
   "source": [
    "Rusty Bargain used car sales service is developing an app to attract new customers. In that app, you can quickly find out the market value of your car. \n",
    "Using different ML regression models: Random Forest Regressor, XGBoost regressor, LightGBM regressor, Catboost regressor based on historical data: technical specifications, trim versions, and prices. The model to determine the value.\n",
    "\n",
    "Rusty Bargain is interested in:\n",
    "* the quality of the prediction\n",
    "* the speed of the prediction\n",
    "* the time required for training\n"
   ]
  },
  {
   "cell_type": "markdown",
   "id": "46bd35c6",
   "metadata": {},
   "source": [
    "## Data description <a class=\"anchor\" id=\"Data_description\"></a>\n"
   ]
  },
  {
   "cell_type": "markdown",
   "id": "8ed923c8",
   "metadata": {},
   "source": [
    "**Features:**\n",
    "* DateCrawled — date profile was downloaded from the database\n",
    "* VehicleType — vehicle body type\n",
    "* RegistrationYear — vehicle registration year\n",
    "* Gearbox — gearbox type\n",
    "* Power — power (hp)\n",
    "* Model — vehicle model\n",
    "* Mileage — mileage (measured in km due to dataset's regional specifics)\n",
    "* RegistrationMonth — vehicle registration month\n",
    "* FuelType — fuel type\n",
    "* Brand — vehicle brand\n",
    "* NotRepaired — vehicle repaired or not\n",
    "* DateCreated — date of profile creation\n",
    "* NumberOfPictures — number of vehicle pictures\n",
    "* PostalCode — postal code of profile owner (user)\n",
    "* LastSeen — date of the last activity of the user\n",
    "\n",
    "**Target:**\n",
    "* Price — price (Euro)"
   ]
  },
  {
   "cell_type": "markdown",
   "id": "cf1d135b",
   "metadata": {},
   "source": [
    "## Import Libraries and Preprocess the Data <a class=\"anchor\" id=\"Libraries\"></a>\n"
   ]
  },
  {
   "cell_type": "code",
   "execution_count": 1,
   "id": "1e6428da",
   "metadata": {},
   "outputs": [],
   "source": [
    "import pandas as pd\n",
    "import numpy as np\n",
    "import seaborn as sns\n",
    "from matplotlib import pyplot as plt\n",
    "from sklearn.model_selection import train_test_split \n",
    "from sklearn.linear_model import LinearRegression\n",
    "\n",
    "from sklearn.ensemble import RandomForestRegressor\n",
    "from sklearn.model_selection import GridSearchCV\n",
    "from sklearn.metrics import make_scorer\n",
    "from sklearn.metrics import mean_squared_error\n",
    "from sklearn.metrics import mean_absolute_error\n",
    "from numpy.random import RandomState\n",
    "from pprint import pprint\n",
    "from sklearn.impute import KNNImputer\n",
    "from sklearn.preprocessing import MinMaxScaler\n",
    "import warnings\n",
    "from sklearn.preprocessing import StandardScaler\n",
    "import time\n",
    "from statistics import mean\n",
    "import catboost as cb\n",
    "from sklearn.preprocessing import OrdinalEncoder\n",
    "from catboost import Pool, cv\n",
    "import math\n",
    "import lightgbm as lgb\n",
    "import xgboost as xgb\n",
    "from catboost import CatBoostRegressor\n",
    "\n",
    "warnings.filterwarnings('ignore')"
   ]
  },
  {
   "cell_type": "markdown",
   "id": "a7f488e7",
   "metadata": {},
   "source": [
    "## Import and Prepare the data<a class=\"anchor\" id=\"Prepare\"></a>"
   ]
  },
  {
   "cell_type": "code",
   "execution_count": 2,
   "id": "e70af395",
   "metadata": {},
   "outputs": [],
   "source": [
    "#Import the data\n",
    "try:\n",
    "    data = pd.read_csv('car_data.csv')\n",
    "    \n",
    "except:\n",
    "    print(\"Something went wrong when opening the file\")"
   ]
  },
  {
   "cell_type": "code",
   "execution_count": 3,
   "id": "af4e56e3",
   "metadata": {},
   "outputs": [
    {
     "name": "stdout",
     "output_type": "stream",
     "text": [
      "<class 'pandas.core.frame.DataFrame'>\n",
      "RangeIndex: 354369 entries, 0 to 354368\n",
      "Data columns (total 16 columns):\n",
      " #   Column             Non-Null Count   Dtype \n",
      "---  ------             --------------   ----- \n",
      " 0   DateCrawled        354369 non-null  object\n",
      " 1   Price              354369 non-null  int64 \n",
      " 2   VehicleType        316879 non-null  object\n",
      " 3   RegistrationYear   354369 non-null  int64 \n",
      " 4   Gearbox            334536 non-null  object\n",
      " 5   Power              354369 non-null  int64 \n",
      " 6   Model              334664 non-null  object\n",
      " 7   Mileage            354369 non-null  int64 \n",
      " 8   RegistrationMonth  354369 non-null  int64 \n",
      " 9   FuelType           321474 non-null  object\n",
      " 10  Brand              354369 non-null  object\n",
      " 11  NotRepaired        283215 non-null  object\n",
      " 12  DateCreated        354369 non-null  object\n",
      " 13  NumberOfPictures   354369 non-null  int64 \n",
      " 14  PostalCode         354369 non-null  int64 \n",
      " 15  LastSeen           354369 non-null  object\n",
      "dtypes: int64(7), object(9)\n",
      "memory usage: 43.3+ MB\n"
     ]
    }
   ],
   "source": [
    "data.info()"
   ]
  },
  {
   "cell_type": "code",
   "execution_count": 4,
   "id": "a018fc0a",
   "metadata": {},
   "outputs": [
    {
     "name": "stdout",
     "output_type": "stream",
     "text": [
      "<class 'pandas.core.frame.DataFrame'>\n",
      "RangeIndex: 354369 entries, 0 to 354368\n",
      "Data columns (total 16 columns):\n",
      " #   Column             Non-Null Count   Dtype \n",
      "---  ------             --------------   ----- \n",
      " 0   datecrawled        354369 non-null  object\n",
      " 1   price              354369 non-null  int64 \n",
      " 2   vehicletype        316879 non-null  object\n",
      " 3   registrationyear   354369 non-null  int64 \n",
      " 4   gearbox            334536 non-null  object\n",
      " 5   power              354369 non-null  int64 \n",
      " 6   model              334664 non-null  object\n",
      " 7   mileage            354369 non-null  int64 \n",
      " 8   registrationmonth  354369 non-null  int64 \n",
      " 9   fueltype           321474 non-null  object\n",
      " 10  brand              354369 non-null  object\n",
      " 11  notrepaired        283215 non-null  object\n",
      " 12  datecreated        354369 non-null  object\n",
      " 13  numberofpictures   354369 non-null  int64 \n",
      " 14  postalcode         354369 non-null  int64 \n",
      " 15  lastseen           354369 non-null  object\n",
      "dtypes: int64(7), object(9)\n",
      "memory usage: 43.3+ MB\n"
     ]
    }
   ],
   "source": [
    "columns = list(data.columns)\n",
    "a = (map(lambda x: x.lower(), columns))\n",
    "b = list(a)\n",
    "data.columns = b\n",
    "data.info()"
   ]
  },
  {
   "cell_type": "code",
   "execution_count": 5,
   "id": "10b7f6d2",
   "metadata": {},
   "outputs": [
    {
     "name": "stdout",
     "output_type": "stream",
     "text": [
      "duplicates number: 262\n"
     ]
    }
   ],
   "source": [
    "print(\"duplicates number: {}\".format(data.duplicated().sum()))"
   ]
  },
  {
   "cell_type": "markdown",
   "id": "3aef4b30",
   "metadata": {},
   "source": [
    "<div style=\"border:solid black 2px; padding: 20px\"> <b>Note:</b><br>\n",
    "262 duplication is a low number and will be deleted "
   ]
  },
  {
   "cell_type": "code",
   "execution_count": 6,
   "id": "e3ed1549",
   "metadata": {},
   "outputs": [
    {
     "name": "stdout",
     "output_type": "stream",
     "text": [
      "duplicates number: 0\n"
     ]
    }
   ],
   "source": [
    "#deletion of duplicates\n",
    "data = data.drop_duplicates()\n",
    "print(\"duplicates number: {}\".format(data.duplicated().sum()))"
   ]
  },
  {
   "cell_type": "code",
   "execution_count": 7,
   "id": "3d4ab71b",
   "metadata": {},
   "outputs": [
    {
     "name": "stdout",
     "output_type": "stream",
     "text": [
      "Rows with NaNs in the dataset: 108540\n"
     ]
    }
   ],
   "source": [
    "print(f\"Rows with NaNs in the dataset: {data.isnull().any(axis=1).sum()}\")\n"
   ]
  },
  {
   "cell_type": "code",
   "execution_count": 8,
   "id": "4d6422d4",
   "metadata": {},
   "outputs": [
    {
     "data": {
      "text/html": [
       "<style type=\"text/css\">\n",
       "#T_f5812_row0_col0, #T_f5812_row0_col1 {\n",
       "  background-color: #b40426;\n",
       "  color: #f1f1f1;\n",
       "}\n",
       "#T_f5812_row1_col0 {\n",
       "  background-color: #e3d9d3;\n",
       "  color: #000000;\n",
       "}\n",
       "#T_f5812_row1_col1 {\n",
       "  background-color: #e9d5cb;\n",
       "  color: #000000;\n",
       "}\n",
       "#T_f5812_row2_col0 {\n",
       "  background-color: #d3dbe7;\n",
       "  color: #000000;\n",
       "}\n",
       "#T_f5812_row2_col1 {\n",
       "  background-color: #cfdaea;\n",
       "  color: #000000;\n",
       "}\n",
       "#T_f5812_row3_col0 {\n",
       "  background-color: #97b8ff;\n",
       "  color: #000000;\n",
       "}\n",
       "#T_f5812_row3_col1, #T_f5812_row4_col1 {\n",
       "  background-color: #9ebeff;\n",
       "  color: #000000;\n",
       "}\n",
       "#T_f5812_row4_col0 {\n",
       "  background-color: #96b7ff;\n",
       "  color: #000000;\n",
       "}\n",
       "#T_f5812_row5_col0, #T_f5812_row5_col1, #T_f5812_row6_col0, #T_f5812_row6_col1, #T_f5812_row7_col0, #T_f5812_row7_col1, #T_f5812_row8_col0, #T_f5812_row8_col1, #T_f5812_row9_col0, #T_f5812_row9_col1, #T_f5812_row10_col0, #T_f5812_row10_col1, #T_f5812_row11_col0, #T_f5812_row11_col1, #T_f5812_row12_col0, #T_f5812_row12_col1, #T_f5812_row13_col0, #T_f5812_row13_col1, #T_f5812_row14_col0, #T_f5812_row14_col1, #T_f5812_row15_col0, #T_f5812_row15_col1 {\n",
       "  background-color: #3b4cc0;\n",
       "  color: #f1f1f1;\n",
       "}\n",
       "</style>\n",
       "<table id=\"T_f5812_\">\n",
       "  <thead>\n",
       "    <tr>\n",
       "      <th class=\"blank level0\" >&nbsp;</th>\n",
       "      <th class=\"col_heading level0 col0\" >missing_values</th>\n",
       "      <th class=\"col_heading level0 col1\" >% of total</th>\n",
       "    </tr>\n",
       "  </thead>\n",
       "  <tbody>\n",
       "    <tr>\n",
       "      <th id=\"T_f5812_level0_row0\" class=\"row_heading level0 row0\" >notrepaired</th>\n",
       "      <td id=\"T_f5812_row0_col0\" class=\"data row0 col0\" >71145</td>\n",
       "      <td id=\"T_f5812_row0_col1\" class=\"data row0 col1\" >0.200000</td>\n",
       "    </tr>\n",
       "    <tr>\n",
       "      <th id=\"T_f5812_level0_row1\" class=\"row_heading level0 row1\" >vehicletype</th>\n",
       "      <td id=\"T_f5812_row1_col0\" class=\"data row1 col0\" >37484</td>\n",
       "      <td id=\"T_f5812_row1_col1\" class=\"data row1 col1\" >0.110000</td>\n",
       "    </tr>\n",
       "    <tr>\n",
       "      <th id=\"T_f5812_level0_row2\" class=\"row_heading level0 row2\" >fueltype</th>\n",
       "      <td id=\"T_f5812_row2_col0\" class=\"data row2 col0\" >32889</td>\n",
       "      <td id=\"T_f5812_row2_col1\" class=\"data row2 col1\" >0.090000</td>\n",
       "    </tr>\n",
       "    <tr>\n",
       "      <th id=\"T_f5812_level0_row3\" class=\"row_heading level0 row3\" >gearbox</th>\n",
       "      <td id=\"T_f5812_row3_col0\" class=\"data row3 col0\" >19830</td>\n",
       "      <td id=\"T_f5812_row3_col1\" class=\"data row3 col1\" >0.060000</td>\n",
       "    </tr>\n",
       "    <tr>\n",
       "      <th id=\"T_f5812_level0_row4\" class=\"row_heading level0 row4\" >model</th>\n",
       "      <td id=\"T_f5812_row4_col0\" class=\"data row4 col0\" >19701</td>\n",
       "      <td id=\"T_f5812_row4_col1\" class=\"data row4 col1\" >0.060000</td>\n",
       "    </tr>\n",
       "    <tr>\n",
       "      <th id=\"T_f5812_level0_row5\" class=\"row_heading level0 row5\" >datecrawled</th>\n",
       "      <td id=\"T_f5812_row5_col0\" class=\"data row5 col0\" >0</td>\n",
       "      <td id=\"T_f5812_row5_col1\" class=\"data row5 col1\" >0.000000</td>\n",
       "    </tr>\n",
       "    <tr>\n",
       "      <th id=\"T_f5812_level0_row6\" class=\"row_heading level0 row6\" >price</th>\n",
       "      <td id=\"T_f5812_row6_col0\" class=\"data row6 col0\" >0</td>\n",
       "      <td id=\"T_f5812_row6_col1\" class=\"data row6 col1\" >0.000000</td>\n",
       "    </tr>\n",
       "    <tr>\n",
       "      <th id=\"T_f5812_level0_row7\" class=\"row_heading level0 row7\" >registrationyear</th>\n",
       "      <td id=\"T_f5812_row7_col0\" class=\"data row7 col0\" >0</td>\n",
       "      <td id=\"T_f5812_row7_col1\" class=\"data row7 col1\" >0.000000</td>\n",
       "    </tr>\n",
       "    <tr>\n",
       "      <th id=\"T_f5812_level0_row8\" class=\"row_heading level0 row8\" >power</th>\n",
       "      <td id=\"T_f5812_row8_col0\" class=\"data row8 col0\" >0</td>\n",
       "      <td id=\"T_f5812_row8_col1\" class=\"data row8 col1\" >0.000000</td>\n",
       "    </tr>\n",
       "    <tr>\n",
       "      <th id=\"T_f5812_level0_row9\" class=\"row_heading level0 row9\" >mileage</th>\n",
       "      <td id=\"T_f5812_row9_col0\" class=\"data row9 col0\" >0</td>\n",
       "      <td id=\"T_f5812_row9_col1\" class=\"data row9 col1\" >0.000000</td>\n",
       "    </tr>\n",
       "    <tr>\n",
       "      <th id=\"T_f5812_level0_row10\" class=\"row_heading level0 row10\" >registrationmonth</th>\n",
       "      <td id=\"T_f5812_row10_col0\" class=\"data row10 col0\" >0</td>\n",
       "      <td id=\"T_f5812_row10_col1\" class=\"data row10 col1\" >0.000000</td>\n",
       "    </tr>\n",
       "    <tr>\n",
       "      <th id=\"T_f5812_level0_row11\" class=\"row_heading level0 row11\" >brand</th>\n",
       "      <td id=\"T_f5812_row11_col0\" class=\"data row11 col0\" >0</td>\n",
       "      <td id=\"T_f5812_row11_col1\" class=\"data row11 col1\" >0.000000</td>\n",
       "    </tr>\n",
       "    <tr>\n",
       "      <th id=\"T_f5812_level0_row12\" class=\"row_heading level0 row12\" >datecreated</th>\n",
       "      <td id=\"T_f5812_row12_col0\" class=\"data row12 col0\" >0</td>\n",
       "      <td id=\"T_f5812_row12_col1\" class=\"data row12 col1\" >0.000000</td>\n",
       "    </tr>\n",
       "    <tr>\n",
       "      <th id=\"T_f5812_level0_row13\" class=\"row_heading level0 row13\" >numberofpictures</th>\n",
       "      <td id=\"T_f5812_row13_col0\" class=\"data row13 col0\" >0</td>\n",
       "      <td id=\"T_f5812_row13_col1\" class=\"data row13 col1\" >0.000000</td>\n",
       "    </tr>\n",
       "    <tr>\n",
       "      <th id=\"T_f5812_level0_row14\" class=\"row_heading level0 row14\" >postalcode</th>\n",
       "      <td id=\"T_f5812_row14_col0\" class=\"data row14 col0\" >0</td>\n",
       "      <td id=\"T_f5812_row14_col1\" class=\"data row14 col1\" >0.000000</td>\n",
       "    </tr>\n",
       "    <tr>\n",
       "      <th id=\"T_f5812_level0_row15\" class=\"row_heading level0 row15\" >lastseen</th>\n",
       "      <td id=\"T_f5812_row15_col0\" class=\"data row15 col0\" >0</td>\n",
       "      <td id=\"T_f5812_row15_col1\" class=\"data row15 col1\" >0.000000</td>\n",
       "    </tr>\n",
       "  </tbody>\n",
       "</table>\n"
      ],
      "text/plain": [
       "<pandas.io.formats.style.Styler at 0x23b7208cf40>"
      ]
     },
     "execution_count": 8,
     "metadata": {},
     "output_type": "execute_result"
    }
   ],
   "source": [
    "#finding missing values\n",
    "report = data.isna().sum().to_frame()\n",
    "report = report.rename(columns = {0: 'missing_values'})\n",
    "report['% of total'] = (report['missing_values'] / data.shape[0]).round(2)\n",
    "report.sort_values(by = 'missing_values', ascending = False).style.background_gradient('coolwarm')"
   ]
  },
  {
   "cell_type": "markdown",
   "id": "d41eb8ee",
   "metadata": {},
   "source": [
    "<div style=\"border:solid black 2px; padding: 20px\"> <b>Note on missing values:</b><br>\n",
    "Because there are so many categorical NaN values in the DataFrames, we cannot simply drop them or fill them using different methods. Hence, the missing values will be filled with the value 'unknown'. "
   ]
  },
  {
   "cell_type": "code",
   "execution_count": 9,
   "id": "c889c248",
   "metadata": {},
   "outputs": [],
   "source": [
    "data = data.fillna('unknown')"
   ]
  },
  {
   "cell_type": "code",
   "execution_count": 10,
   "id": "e04e5ad4",
   "metadata": {},
   "outputs": [
    {
     "data": {
      "text/html": [
       "<style type=\"text/css\">\n",
       "#T_49a59_row0_col0, #T_49a59_row0_col1, #T_49a59_row1_col0, #T_49a59_row1_col1, #T_49a59_row2_col0, #T_49a59_row2_col1, #T_49a59_row3_col0, #T_49a59_row3_col1, #T_49a59_row4_col0, #T_49a59_row4_col1, #T_49a59_row5_col0, #T_49a59_row5_col1, #T_49a59_row6_col0, #T_49a59_row6_col1, #T_49a59_row7_col0, #T_49a59_row7_col1, #T_49a59_row8_col0, #T_49a59_row8_col1, #T_49a59_row9_col0, #T_49a59_row9_col1, #T_49a59_row10_col0, #T_49a59_row10_col1, #T_49a59_row11_col0, #T_49a59_row11_col1, #T_49a59_row12_col0, #T_49a59_row12_col1, #T_49a59_row13_col0, #T_49a59_row13_col1, #T_49a59_row14_col0, #T_49a59_row14_col1, #T_49a59_row15_col0, #T_49a59_row15_col1 {\n",
       "  background-color: #3b4cc0;\n",
       "  color: #f1f1f1;\n",
       "}\n",
       "</style>\n",
       "<table id=\"T_49a59_\">\n",
       "  <thead>\n",
       "    <tr>\n",
       "      <th class=\"blank level0\" >&nbsp;</th>\n",
       "      <th class=\"col_heading level0 col0\" >missing_values</th>\n",
       "      <th class=\"col_heading level0 col1\" >% of total</th>\n",
       "    </tr>\n",
       "  </thead>\n",
       "  <tbody>\n",
       "    <tr>\n",
       "      <th id=\"T_49a59_level0_row0\" class=\"row_heading level0 row0\" >datecrawled</th>\n",
       "      <td id=\"T_49a59_row0_col0\" class=\"data row0 col0\" >0</td>\n",
       "      <td id=\"T_49a59_row0_col1\" class=\"data row0 col1\" >0.000000</td>\n",
       "    </tr>\n",
       "    <tr>\n",
       "      <th id=\"T_49a59_level0_row1\" class=\"row_heading level0 row1\" >price</th>\n",
       "      <td id=\"T_49a59_row1_col0\" class=\"data row1 col0\" >0</td>\n",
       "      <td id=\"T_49a59_row1_col1\" class=\"data row1 col1\" >0.000000</td>\n",
       "    </tr>\n",
       "    <tr>\n",
       "      <th id=\"T_49a59_level0_row2\" class=\"row_heading level0 row2\" >vehicletype</th>\n",
       "      <td id=\"T_49a59_row2_col0\" class=\"data row2 col0\" >0</td>\n",
       "      <td id=\"T_49a59_row2_col1\" class=\"data row2 col1\" >0.000000</td>\n",
       "    </tr>\n",
       "    <tr>\n",
       "      <th id=\"T_49a59_level0_row3\" class=\"row_heading level0 row3\" >registrationyear</th>\n",
       "      <td id=\"T_49a59_row3_col0\" class=\"data row3 col0\" >0</td>\n",
       "      <td id=\"T_49a59_row3_col1\" class=\"data row3 col1\" >0.000000</td>\n",
       "    </tr>\n",
       "    <tr>\n",
       "      <th id=\"T_49a59_level0_row4\" class=\"row_heading level0 row4\" >gearbox</th>\n",
       "      <td id=\"T_49a59_row4_col0\" class=\"data row4 col0\" >0</td>\n",
       "      <td id=\"T_49a59_row4_col1\" class=\"data row4 col1\" >0.000000</td>\n",
       "    </tr>\n",
       "    <tr>\n",
       "      <th id=\"T_49a59_level0_row5\" class=\"row_heading level0 row5\" >power</th>\n",
       "      <td id=\"T_49a59_row5_col0\" class=\"data row5 col0\" >0</td>\n",
       "      <td id=\"T_49a59_row5_col1\" class=\"data row5 col1\" >0.000000</td>\n",
       "    </tr>\n",
       "    <tr>\n",
       "      <th id=\"T_49a59_level0_row6\" class=\"row_heading level0 row6\" >model</th>\n",
       "      <td id=\"T_49a59_row6_col0\" class=\"data row6 col0\" >0</td>\n",
       "      <td id=\"T_49a59_row6_col1\" class=\"data row6 col1\" >0.000000</td>\n",
       "    </tr>\n",
       "    <tr>\n",
       "      <th id=\"T_49a59_level0_row7\" class=\"row_heading level0 row7\" >mileage</th>\n",
       "      <td id=\"T_49a59_row7_col0\" class=\"data row7 col0\" >0</td>\n",
       "      <td id=\"T_49a59_row7_col1\" class=\"data row7 col1\" >0.000000</td>\n",
       "    </tr>\n",
       "    <tr>\n",
       "      <th id=\"T_49a59_level0_row8\" class=\"row_heading level0 row8\" >registrationmonth</th>\n",
       "      <td id=\"T_49a59_row8_col0\" class=\"data row8 col0\" >0</td>\n",
       "      <td id=\"T_49a59_row8_col1\" class=\"data row8 col1\" >0.000000</td>\n",
       "    </tr>\n",
       "    <tr>\n",
       "      <th id=\"T_49a59_level0_row9\" class=\"row_heading level0 row9\" >fueltype</th>\n",
       "      <td id=\"T_49a59_row9_col0\" class=\"data row9 col0\" >0</td>\n",
       "      <td id=\"T_49a59_row9_col1\" class=\"data row9 col1\" >0.000000</td>\n",
       "    </tr>\n",
       "    <tr>\n",
       "      <th id=\"T_49a59_level0_row10\" class=\"row_heading level0 row10\" >brand</th>\n",
       "      <td id=\"T_49a59_row10_col0\" class=\"data row10 col0\" >0</td>\n",
       "      <td id=\"T_49a59_row10_col1\" class=\"data row10 col1\" >0.000000</td>\n",
       "    </tr>\n",
       "    <tr>\n",
       "      <th id=\"T_49a59_level0_row11\" class=\"row_heading level0 row11\" >notrepaired</th>\n",
       "      <td id=\"T_49a59_row11_col0\" class=\"data row11 col0\" >0</td>\n",
       "      <td id=\"T_49a59_row11_col1\" class=\"data row11 col1\" >0.000000</td>\n",
       "    </tr>\n",
       "    <tr>\n",
       "      <th id=\"T_49a59_level0_row12\" class=\"row_heading level0 row12\" >datecreated</th>\n",
       "      <td id=\"T_49a59_row12_col0\" class=\"data row12 col0\" >0</td>\n",
       "      <td id=\"T_49a59_row12_col1\" class=\"data row12 col1\" >0.000000</td>\n",
       "    </tr>\n",
       "    <tr>\n",
       "      <th id=\"T_49a59_level0_row13\" class=\"row_heading level0 row13\" >numberofpictures</th>\n",
       "      <td id=\"T_49a59_row13_col0\" class=\"data row13 col0\" >0</td>\n",
       "      <td id=\"T_49a59_row13_col1\" class=\"data row13 col1\" >0.000000</td>\n",
       "    </tr>\n",
       "    <tr>\n",
       "      <th id=\"T_49a59_level0_row14\" class=\"row_heading level0 row14\" >postalcode</th>\n",
       "      <td id=\"T_49a59_row14_col0\" class=\"data row14 col0\" >0</td>\n",
       "      <td id=\"T_49a59_row14_col1\" class=\"data row14 col1\" >0.000000</td>\n",
       "    </tr>\n",
       "    <tr>\n",
       "      <th id=\"T_49a59_level0_row15\" class=\"row_heading level0 row15\" >lastseen</th>\n",
       "      <td id=\"T_49a59_row15_col0\" class=\"data row15 col0\" >0</td>\n",
       "      <td id=\"T_49a59_row15_col1\" class=\"data row15 col1\" >0.000000</td>\n",
       "    </tr>\n",
       "  </tbody>\n",
       "</table>\n"
      ],
      "text/plain": [
       "<pandas.io.formats.style.Styler at 0x23b77af9520>"
      ]
     },
     "execution_count": 10,
     "metadata": {},
     "output_type": "execute_result"
    }
   ],
   "source": [
    "report = data.isna().sum().to_frame()\n",
    "report = report.rename(columns = {0: 'missing_values'})\n",
    "report['% of total'] = (report['missing_values'] / data.shape[0]).round(2)\n",
    "report.sort_values(by = 'missing_values', ascending = False).style.background_gradient('coolwarm')"
   ]
  },
  {
   "cell_type": "markdown",
   "id": "7b2ea1b8",
   "metadata": {},
   "source": [
    "### EDA<a class=\"anchor\" id=\"EDA\"></a>"
   ]
  },
  {
   "cell_type": "code",
   "execution_count": 11,
   "id": "4a69e430",
   "metadata": {},
   "outputs": [
    {
     "data": {
      "image/png": "[encoded data removed]",
      "text/plain": [
       "<Figure size 1080x1080 with 9 Axes>"
      ]
     },
     "metadata": {
      "needs_background": "light"
     },
     "output_type": "display_data"
    }
   ],
   "source": [
    "data.hist(edgecolor='black', linewidth=1.2, figsize=(15,15));"
   ]
  },
  {
   "cell_type": "markdown",
   "id": "bacc2703",
   "metadata": {},
   "source": [
    "<div style=\"border:solid black 2px; padding: 20px\"> <b>Note on outliers:</b><br>\n",
    "there are outliers in none catgorical features and the target that can affect the prediction and need to  be removed:\n",
    "    \n",
    "    * price - target\n",
    "    * power\n",
    "    * registrationmonth\n",
    "    * registrationyear"
   ]
  },
  {
   "cell_type": "code",
   "execution_count": 12,
   "id": "44de0c84",
   "metadata": {},
   "outputs": [],
   "source": [
    "#price bigger than 100 \n",
    "data = data.query('price >= 100')"
   ]
  },
  {
   "cell_type": "code",
   "execution_count": 13,
   "id": "394dd661",
   "metadata": {},
   "outputs": [],
   "source": [
    "#hp can't be 0 or more than 2000\n",
    "#https://en.wikipedia.org/wiki/List_of_production_cars_by_power_output\n",
    "data = data.query('2000 > power > 0')"
   ]
  },
  {
   "cell_type": "code",
   "execution_count": 14,
   "id": "9364c662",
   "metadata": {},
   "outputs": [],
   "source": [
    "\n",
    "#registrationmonth can't be 0 \n",
    "data = data.query('registrationmonth > 0')"
   ]
  },
  {
   "cell_type": "code",
   "execution_count": 15,
   "id": "e8456b7a",
   "metadata": {},
   "outputs": [],
   "source": [
    "\n",
    "#registrationyear can't be less than 1900 or more than 2022 \n",
    "data = data.query('2022 >=registrationyear >= 1900')"
   ]
  },
  {
   "cell_type": "code",
   "execution_count": 16,
   "id": "dd88ec39",
   "metadata": {},
   "outputs": [
    {
     "data": {
      "image/png": "[encoded data removed]",
      "text/plain": [
       "<Figure size 1080x1080 with 9 Axes>"
      ]
     },
     "metadata": {
      "needs_background": "light"
     },
     "output_type": "display_data"
    }
   ],
   "source": [
    "data.hist(edgecolor='black', linewidth=1.2, figsize=(15,15));"
   ]
  },
  {
   "cell_type": "markdown",
   "id": "1dc9b9e3",
   "metadata": {},
   "source": [
    "### Prepare for ML <a class=\"anchor\" id=\"Prepare_for_ML\"></a>"
   ]
  },
  {
   "cell_type": "markdown",
   "id": "fd75a3ff",
   "metadata": {},
   "source": [
    "The features will convert in these ways: \n",
    "* OrdinalEncoder - vehicletype, fueltype, model,brand\n",
    "* One-Hot Encoding  - notrepaired,gearbox\n",
    "* Date features to drop - 'datecrawled','lastseen','datecreated' "
   ]
  },
  {
   "cell_type": "code",
   "execution_count": 17,
   "id": "fd3262dd",
   "metadata": {},
   "outputs": [],
   "source": [
    "# Date Features to drop\n",
    "data_o = data.drop(['datecrawled','lastseen','datecreated',],axis=1)\n"
   ]
  },
  {
   "cell_type": "code",
   "execution_count": 18,
   "id": "ea3a452d",
   "metadata": {},
   "outputs": [],
   "source": [
    "#One-Hot Encoding\n",
    "data_ohe = pd.get_dummies(data_o, columns=['notrepaired', 'gearbox'])"
   ]
  },
  {
   "cell_type": "code",
   "execution_count": 19,
   "id": "8fdbf74d",
   "metadata": {},
   "outputs": [],
   "source": [
    "#droping features to avoid dummy trap\n",
    "data_ohe = data_ohe.drop(['notrepaired_unknown','notrepaired_no','gearbox_manual','gearbox_unknown'],axis=1)"
   ]
  },
  {
   "cell_type": "code",
   "execution_count": 20,
   "id": "4148f167",
   "metadata": {},
   "outputs": [
    {
     "name": "stdout",
     "output_type": "stream",
     "text": [
      "<class 'pandas.core.frame.DataFrame'>\n",
      "Int64Index: 285859 entries, 1 to 354368\n",
      "Data columns (total 13 columns):\n",
      " #   Column             Non-Null Count   Dtype \n",
      "---  ------             --------------   ----- \n",
      " 0   price              285859 non-null  int64 \n",
      " 1   vehicletype        285859 non-null  object\n",
      " 2   registrationyear   285859 non-null  int64 \n",
      " 3   power              285859 non-null  int64 \n",
      " 4   model              285859 non-null  object\n",
      " 5   mileage            285859 non-null  int64 \n",
      " 6   registrationmonth  285859 non-null  int64 \n",
      " 7   fueltype           285859 non-null  object\n",
      " 8   brand              285859 non-null  object\n",
      " 9   numberofpictures   285859 non-null  int64 \n",
      " 10  postalcode         285859 non-null  int64 \n",
      " 11  notrepaired_yes    285859 non-null  uint8 \n",
      " 12  gearbox_auto       285859 non-null  uint8 \n",
      "dtypes: int64(7), object(4), uint8(2)\n",
      "memory usage: 26.7+ MB\n"
     ]
    }
   ],
   "source": [
    "data_ohe.info()"
   ]
  },
  {
   "cell_type": "code",
   "execution_count": 21,
   "id": "ba18097d",
   "metadata": {},
   "outputs": [
    {
     "name": "stdout",
     "output_type": "stream",
     "text": [
      "<class 'pandas.core.frame.DataFrame'>\n",
      "Int64Index: 285859 entries, 1 to 354368\n",
      "Data columns (total 16 columns):\n",
      " #   Column             Non-Null Count   Dtype \n",
      "---  ------             --------------   ----- \n",
      " 0   datecrawled        285859 non-null  object\n",
      " 1   price              285859 non-null  int64 \n",
      " 2   vehicletype        285859 non-null  object\n",
      " 3   registrationyear   285859 non-null  int64 \n",
      " 4   gearbox            285859 non-null  object\n",
      " 5   power              285859 non-null  int64 \n",
      " 6   model              285859 non-null  object\n",
      " 7   mileage            285859 non-null  int64 \n",
      " 8   registrationmonth  285859 non-null  int64 \n",
      " 9   fueltype           285859 non-null  object\n",
      " 10  brand              285859 non-null  object\n",
      " 11  notrepaired        285859 non-null  object\n",
      " 12  datecreated        285859 non-null  object\n",
      " 13  numberofpictures   285859 non-null  int64 \n",
      " 14  postalcode         285859 non-null  int64 \n",
      " 15  lastseen           285859 non-null  object\n",
      "dtypes: int64(7), object(9)\n",
      "memory usage: 37.1+ MB\n"
     ]
    }
   ],
   "source": [
    "data.info()"
   ]
  },
  {
   "cell_type": "code",
   "execution_count": 24,
   "id": "9f5f4452",
   "metadata": {},
   "outputs": [],
   "source": [
    "#Ordinal Encoder\n",
    "enc = OrdinalEncoder()"
   ]
  },
  {
   "cell_type": "code",
   "execution_count": 25,
   "id": "f359ac97",
   "metadata": {},
   "outputs": [
    {
     "data": {
      "text/plain": [
       "OrdinalEncoder()"
      ]
     },
     "execution_count": 25,
     "metadata": {},
     "output_type": "execute_result"
    }
   ],
   "source": [
    "enc.fit(data_ohe[[\"vehicletype\", \"fueltype\", \"model\",\"brand\"]])"
   ]
  },
  {
   "cell_type": "code",
   "execution_count": 26,
   "id": "63e66ac2",
   "metadata": {},
   "outputs": [
    {
     "data": {
      "text/html": [
       "<div>\n",
       "<style scoped>\n",
       "    .dataframe tbody tr th:only-of-type {\n",
       "        vertical-align: middle;\n",
       "    }\n",
       "\n",
       "    .dataframe tbody tr th {\n",
       "        vertical-align: top;\n",
       "    }\n",
       "\n",
       "    .dataframe thead th {\n",
       "        text-align: right;\n",
       "    }\n",
       "</style>\n",
       "<table border=\"1\" class=\"dataframe\">\n",
       "  <thead>\n",
       "    <tr style=\"text-align: right;\">\n",
       "      <th></th>\n",
       "      <th>price</th>\n",
       "      <th>vehicletype</th>\n",
       "      <th>registrationyear</th>\n",
       "      <th>power</th>\n",
       "      <th>model</th>\n",
       "      <th>mileage</th>\n",
       "      <th>registrationmonth</th>\n",
       "      <th>fueltype</th>\n",
       "      <th>brand</th>\n",
       "      <th>numberofpictures</th>\n",
       "      <th>postalcode</th>\n",
       "      <th>notrepaired_yes</th>\n",
       "      <th>gearbox_auto</th>\n",
       "    </tr>\n",
       "  </thead>\n",
       "  <tbody>\n",
       "    <tr>\n",
       "      <th>1</th>\n",
       "      <td>18300</td>\n",
       "      <td>coupe</td>\n",
       "      <td>2011</td>\n",
       "      <td>190</td>\n",
       "      <td>unknown</td>\n",
       "      <td>125000</td>\n",
       "      <td>5</td>\n",
       "      <td>gasoline</td>\n",
       "      <td>audi</td>\n",
       "      <td>0</td>\n",
       "      <td>66954</td>\n",
       "      <td>1</td>\n",
       "      <td>0</td>\n",
       "    </tr>\n",
       "    <tr>\n",
       "      <th>2</th>\n",
       "      <td>9800</td>\n",
       "      <td>suv</td>\n",
       "      <td>2004</td>\n",
       "      <td>163</td>\n",
       "      <td>grand</td>\n",
       "      <td>125000</td>\n",
       "      <td>8</td>\n",
       "      <td>gasoline</td>\n",
       "      <td>jeep</td>\n",
       "      <td>0</td>\n",
       "      <td>90480</td>\n",
       "      <td>0</td>\n",
       "      <td>1</td>\n",
       "    </tr>\n",
       "    <tr>\n",
       "      <th>3</th>\n",
       "      <td>1500</td>\n",
       "      <td>small</td>\n",
       "      <td>2001</td>\n",
       "      <td>75</td>\n",
       "      <td>golf</td>\n",
       "      <td>150000</td>\n",
       "      <td>6</td>\n",
       "      <td>petrol</td>\n",
       "      <td>volkswagen</td>\n",
       "      <td>0</td>\n",
       "      <td>91074</td>\n",
       "      <td>0</td>\n",
       "      <td>0</td>\n",
       "    </tr>\n",
       "    <tr>\n",
       "      <th>4</th>\n",
       "      <td>3600</td>\n",
       "      <td>small</td>\n",
       "      <td>2008</td>\n",
       "      <td>69</td>\n",
       "      <td>fabia</td>\n",
       "      <td>90000</td>\n",
       "      <td>7</td>\n",
       "      <td>gasoline</td>\n",
       "      <td>skoda</td>\n",
       "      <td>0</td>\n",
       "      <td>60437</td>\n",
       "      <td>0</td>\n",
       "      <td>0</td>\n",
       "    </tr>\n",
       "    <tr>\n",
       "      <th>5</th>\n",
       "      <td>650</td>\n",
       "      <td>sedan</td>\n",
       "      <td>1995</td>\n",
       "      <td>102</td>\n",
       "      <td>3er</td>\n",
       "      <td>150000</td>\n",
       "      <td>10</td>\n",
       "      <td>petrol</td>\n",
       "      <td>bmw</td>\n",
       "      <td>0</td>\n",
       "      <td>33775</td>\n",
       "      <td>1</td>\n",
       "      <td>0</td>\n",
       "    </tr>\n",
       "  </tbody>\n",
       "</table>\n",
       "</div>"
      ],
      "text/plain": [
       "   price vehicletype  registrationyear  power    model  mileage  \\\n",
       "1  18300       coupe              2011    190  unknown   125000   \n",
       "2   9800         suv              2004    163    grand   125000   \n",
       "3   1500       small              2001     75     golf   150000   \n",
       "4   3600       small              2008     69    fabia    90000   \n",
       "5    650       sedan              1995    102      3er   150000   \n",
       "\n",
       "   registrationmonth  fueltype       brand  numberofpictures  postalcode  \\\n",
       "1                  5  gasoline        audi                 0       66954   \n",
       "2                  8  gasoline        jeep                 0       90480   \n",
       "3                  6    petrol  volkswagen                 0       91074   \n",
       "4                  7  gasoline       skoda                 0       60437   \n",
       "5                 10    petrol         bmw                 0       33775   \n",
       "\n",
       "   notrepaired_yes  gearbox_auto  \n",
       "1                1             0  \n",
       "2                0             1  \n",
       "3                0             0  \n",
       "4                0             0  \n",
       "5                1             0  "
      ]
     },
     "execution_count": 26,
     "metadata": {},
     "output_type": "execute_result"
    }
   ],
   "source": [
    "data_ohe.head()"
   ]
  },
  {
   "cell_type": "code",
   "execution_count": 27,
   "id": "5a98c1f0",
   "metadata": {},
   "outputs": [],
   "source": [
    "#convert the features for Ordinal Encoder\n",
    "data_ohe[[\"vehicletype\", \"fueltype\", \"model\",\"brand\"]] = enc.transform(data_ohe[[\"vehicletype\", \"fueltype\", \"model\",\"brand\"]])\n"
   ]
  },
  {
   "cell_type": "code",
   "execution_count": 28,
   "id": "0fface23",
   "metadata": {},
   "outputs": [
    {
     "data": {
      "text/html": [
       "<div>\n",
       "<style scoped>\n",
       "    .dataframe tbody tr th:only-of-type {\n",
       "        vertical-align: middle;\n",
       "    }\n",
       "\n",
       "    .dataframe tbody tr th {\n",
       "        vertical-align: top;\n",
       "    }\n",
       "\n",
       "    .dataframe thead th {\n",
       "        text-align: right;\n",
       "    }\n",
       "</style>\n",
       "<table border=\"1\" class=\"dataframe\">\n",
       "  <thead>\n",
       "    <tr style=\"text-align: right;\">\n",
       "      <th></th>\n",
       "      <th>price</th>\n",
       "      <th>vehicletype</th>\n",
       "      <th>registrationyear</th>\n",
       "      <th>power</th>\n",
       "      <th>model</th>\n",
       "      <th>mileage</th>\n",
       "      <th>registrationmonth</th>\n",
       "      <th>fueltype</th>\n",
       "      <th>brand</th>\n",
       "      <th>numberofpictures</th>\n",
       "      <th>postalcode</th>\n",
       "      <th>notrepaired_yes</th>\n",
       "      <th>gearbox_auto</th>\n",
       "    </tr>\n",
       "  </thead>\n",
       "  <tbody>\n",
       "    <tr>\n",
       "      <th>1</th>\n",
       "      <td>18300</td>\n",
       "      <td>2.0</td>\n",
       "      <td>2011</td>\n",
       "      <td>190</td>\n",
       "      <td>227.0</td>\n",
       "      <td>125000</td>\n",
       "      <td>5</td>\n",
       "      <td>2.0</td>\n",
       "      <td>1.0</td>\n",
       "      <td>0</td>\n",
       "      <td>66954</td>\n",
       "      <td>1</td>\n",
       "      <td>0</td>\n",
       "    </tr>\n",
       "    <tr>\n",
       "      <th>2</th>\n",
       "      <td>9800</td>\n",
       "      <td>6.0</td>\n",
       "      <td>2004</td>\n",
       "      <td>163</td>\n",
       "      <td>117.0</td>\n",
       "      <td>125000</td>\n",
       "      <td>8</td>\n",
       "      <td>2.0</td>\n",
       "      <td>14.0</td>\n",
       "      <td>0</td>\n",
       "      <td>90480</td>\n",
       "      <td>0</td>\n",
       "      <td>1</td>\n",
       "    </tr>\n",
       "    <tr>\n",
       "      <th>3</th>\n",
       "      <td>1500</td>\n",
       "      <td>5.0</td>\n",
       "      <td>2001</td>\n",
       "      <td>75</td>\n",
       "      <td>116.0</td>\n",
       "      <td>150000</td>\n",
       "      <td>6</td>\n",
       "      <td>6.0</td>\n",
       "      <td>38.0</td>\n",
       "      <td>0</td>\n",
       "      <td>91074</td>\n",
       "      <td>0</td>\n",
       "      <td>0</td>\n",
       "    </tr>\n",
       "    <tr>\n",
       "      <th>4</th>\n",
       "      <td>3600</td>\n",
       "      <td>5.0</td>\n",
       "      <td>2008</td>\n",
       "      <td>69</td>\n",
       "      <td>101.0</td>\n",
       "      <td>90000</td>\n",
       "      <td>7</td>\n",
       "      <td>2.0</td>\n",
       "      <td>31.0</td>\n",
       "      <td>0</td>\n",
       "      <td>60437</td>\n",
       "      <td>0</td>\n",
       "      <td>0</td>\n",
       "    </tr>\n",
       "    <tr>\n",
       "      <th>5</th>\n",
       "      <td>650</td>\n",
       "      <td>4.0</td>\n",
       "      <td>1995</td>\n",
       "      <td>102</td>\n",
       "      <td>11.0</td>\n",
       "      <td>150000</td>\n",
       "      <td>10</td>\n",
       "      <td>6.0</td>\n",
       "      <td>2.0</td>\n",
       "      <td>0</td>\n",
       "      <td>33775</td>\n",
       "      <td>1</td>\n",
       "      <td>0</td>\n",
       "    </tr>\n",
       "  </tbody>\n",
       "</table>\n",
       "</div>"
      ],
      "text/plain": [
       "   price  vehicletype  registrationyear  power  model  mileage  \\\n",
       "1  18300          2.0              2011    190  227.0   125000   \n",
       "2   9800          6.0              2004    163  117.0   125000   \n",
       "3   1500          5.0              2001     75  116.0   150000   \n",
       "4   3600          5.0              2008     69  101.0    90000   \n",
       "5    650          4.0              1995    102   11.0   150000   \n",
       "\n",
       "   registrationmonth  fueltype  brand  numberofpictures  postalcode  \\\n",
       "1                  5       2.0    1.0                 0       66954   \n",
       "2                  8       2.0   14.0                 0       90480   \n",
       "3                  6       6.0   38.0                 0       91074   \n",
       "4                  7       2.0   31.0                 0       60437   \n",
       "5                 10       6.0    2.0                 0       33775   \n",
       "\n",
       "   notrepaired_yes  gearbox_auto  \n",
       "1                1             0  \n",
       "2                0             1  \n",
       "3                0             0  \n",
       "4                0             0  \n",
       "5                1             0  "
      ]
     },
     "execution_count": 28,
     "metadata": {},
     "output_type": "execute_result"
    }
   ],
   "source": [
    "data_ohe.head()"
   ]
  },
  {
   "cell_type": "code",
   "execution_count": 29,
   "id": "ea93b493",
   "metadata": {},
   "outputs": [],
   "source": [
    "#change data type to int64\n",
    "data_ohe['vehicletype'] = data_ohe['vehicletype'].astype('int64')\n",
    "data_ohe['model'] = data_ohe['model'].astype('int64')\n",
    "data_ohe['fueltype'] = data_ohe['fueltype'].astype('int64')\n",
    "data_ohe['brand'] = data_ohe['brand'].astype('int64')\n"
   ]
  },
  {
   "cell_type": "code",
   "execution_count": 30,
   "id": "46b2807b",
   "metadata": {},
   "outputs": [
    {
     "name": "stdout",
     "output_type": "stream",
     "text": [
      "<class 'pandas.core.frame.DataFrame'>\n",
      "Int64Index: 285859 entries, 1 to 354368\n",
      "Data columns (total 13 columns):\n",
      " #   Column             Non-Null Count   Dtype\n",
      "---  ------             --------------   -----\n",
      " 0   price              285859 non-null  int64\n",
      " 1   vehicletype        285859 non-null  int64\n",
      " 2   registrationyear   285859 non-null  int64\n",
      " 3   power              285859 non-null  int64\n",
      " 4   model              285859 non-null  int64\n",
      " 5   mileage            285859 non-null  int64\n",
      " 6   registrationmonth  285859 non-null  int64\n",
      " 7   fueltype           285859 non-null  int64\n",
      " 8   brand              285859 non-null  int64\n",
      " 9   numberofpictures   285859 non-null  int64\n",
      " 10  postalcode         285859 non-null  int64\n",
      " 11  notrepaired_yes    285859 non-null  uint8\n",
      " 12  gearbox_auto       285859 non-null  uint8\n",
      "dtypes: int64(11), uint8(2)\n",
      "memory usage: 26.7 MB\n"
     ]
    }
   ],
   "source": [
    "data_ohe.info()"
   ]
  },
  {
   "cell_type": "code",
   "execution_count": 31,
   "id": "2de58c7d",
   "metadata": {},
   "outputs": [
    {
     "data": {
      "text/html": [
       "<style type=\"text/css\">\n",
       "#T_9bc69_row0_col0, #T_9bc69_row0_col1, #T_9bc69_row1_col0, #T_9bc69_row1_col1, #T_9bc69_row2_col0, #T_9bc69_row2_col1, #T_9bc69_row3_col0, #T_9bc69_row3_col1, #T_9bc69_row4_col0, #T_9bc69_row4_col1, #T_9bc69_row5_col0, #T_9bc69_row5_col1, #T_9bc69_row6_col0, #T_9bc69_row6_col1, #T_9bc69_row7_col0, #T_9bc69_row7_col1, #T_9bc69_row8_col0, #T_9bc69_row8_col1, #T_9bc69_row9_col0, #T_9bc69_row9_col1, #T_9bc69_row10_col0, #T_9bc69_row10_col1, #T_9bc69_row11_col0, #T_9bc69_row11_col1, #T_9bc69_row12_col0, #T_9bc69_row12_col1 {\n",
       "  background-color: #3b4cc0;\n",
       "  color: #f1f1f1;\n",
       "}\n",
       "</style>\n",
       "<table id=\"T_9bc69_\">\n",
       "  <thead>\n",
       "    <tr>\n",
       "      <th class=\"blank level0\" >&nbsp;</th>\n",
       "      <th class=\"col_heading level0 col0\" >missing_values</th>\n",
       "      <th class=\"col_heading level0 col1\" >% of total</th>\n",
       "    </tr>\n",
       "  </thead>\n",
       "  <tbody>\n",
       "    <tr>\n",
       "      <th id=\"T_9bc69_level0_row0\" class=\"row_heading level0 row0\" >price</th>\n",
       "      <td id=\"T_9bc69_row0_col0\" class=\"data row0 col0\" >0</td>\n",
       "      <td id=\"T_9bc69_row0_col1\" class=\"data row0 col1\" >0.000000</td>\n",
       "    </tr>\n",
       "    <tr>\n",
       "      <th id=\"T_9bc69_level0_row1\" class=\"row_heading level0 row1\" >vehicletype</th>\n",
       "      <td id=\"T_9bc69_row1_col0\" class=\"data row1 col0\" >0</td>\n",
       "      <td id=\"T_9bc69_row1_col1\" class=\"data row1 col1\" >0.000000</td>\n",
       "    </tr>\n",
       "    <tr>\n",
       "      <th id=\"T_9bc69_level0_row2\" class=\"row_heading level0 row2\" >registrationyear</th>\n",
       "      <td id=\"T_9bc69_row2_col0\" class=\"data row2 col0\" >0</td>\n",
       "      <td id=\"T_9bc69_row2_col1\" class=\"data row2 col1\" >0.000000</td>\n",
       "    </tr>\n",
       "    <tr>\n",
       "      <th id=\"T_9bc69_level0_row3\" class=\"row_heading level0 row3\" >power</th>\n",
       "      <td id=\"T_9bc69_row3_col0\" class=\"data row3 col0\" >0</td>\n",
       "      <td id=\"T_9bc69_row3_col1\" class=\"data row3 col1\" >0.000000</td>\n",
       "    </tr>\n",
       "    <tr>\n",
       "      <th id=\"T_9bc69_level0_row4\" class=\"row_heading level0 row4\" >model</th>\n",
       "      <td id=\"T_9bc69_row4_col0\" class=\"data row4 col0\" >0</td>\n",
       "      <td id=\"T_9bc69_row4_col1\" class=\"data row4 col1\" >0.000000</td>\n",
       "    </tr>\n",
       "    <tr>\n",
       "      <th id=\"T_9bc69_level0_row5\" class=\"row_heading level0 row5\" >mileage</th>\n",
       "      <td id=\"T_9bc69_row5_col0\" class=\"data row5 col0\" >0</td>\n",
       "      <td id=\"T_9bc69_row5_col1\" class=\"data row5 col1\" >0.000000</td>\n",
       "    </tr>\n",
       "    <tr>\n",
       "      <th id=\"T_9bc69_level0_row6\" class=\"row_heading level0 row6\" >registrationmonth</th>\n",
       "      <td id=\"T_9bc69_row6_col0\" class=\"data row6 col0\" >0</td>\n",
       "      <td id=\"T_9bc69_row6_col1\" class=\"data row6 col1\" >0.000000</td>\n",
       "    </tr>\n",
       "    <tr>\n",
       "      <th id=\"T_9bc69_level0_row7\" class=\"row_heading level0 row7\" >fueltype</th>\n",
       "      <td id=\"T_9bc69_row7_col0\" class=\"data row7 col0\" >0</td>\n",
       "      <td id=\"T_9bc69_row7_col1\" class=\"data row7 col1\" >0.000000</td>\n",
       "    </tr>\n",
       "    <tr>\n",
       "      <th id=\"T_9bc69_level0_row8\" class=\"row_heading level0 row8\" >brand</th>\n",
       "      <td id=\"T_9bc69_row8_col0\" class=\"data row8 col0\" >0</td>\n",
       "      <td id=\"T_9bc69_row8_col1\" class=\"data row8 col1\" >0.000000</td>\n",
       "    </tr>\n",
       "    <tr>\n",
       "      <th id=\"T_9bc69_level0_row9\" class=\"row_heading level0 row9\" >numberofpictures</th>\n",
       "      <td id=\"T_9bc69_row9_col0\" class=\"data row9 col0\" >0</td>\n",
       "      <td id=\"T_9bc69_row9_col1\" class=\"data row9 col1\" >0.000000</td>\n",
       "    </tr>\n",
       "    <tr>\n",
       "      <th id=\"T_9bc69_level0_row10\" class=\"row_heading level0 row10\" >postalcode</th>\n",
       "      <td id=\"T_9bc69_row10_col0\" class=\"data row10 col0\" >0</td>\n",
       "      <td id=\"T_9bc69_row10_col1\" class=\"data row10 col1\" >0.000000</td>\n",
       "    </tr>\n",
       "    <tr>\n",
       "      <th id=\"T_9bc69_level0_row11\" class=\"row_heading level0 row11\" >notrepaired_yes</th>\n",
       "      <td id=\"T_9bc69_row11_col0\" class=\"data row11 col0\" >0</td>\n",
       "      <td id=\"T_9bc69_row11_col1\" class=\"data row11 col1\" >0.000000</td>\n",
       "    </tr>\n",
       "    <tr>\n",
       "      <th id=\"T_9bc69_level0_row12\" class=\"row_heading level0 row12\" >gearbox_auto</th>\n",
       "      <td id=\"T_9bc69_row12_col0\" class=\"data row12 col0\" >0</td>\n",
       "      <td id=\"T_9bc69_row12_col1\" class=\"data row12 col1\" >0.000000</td>\n",
       "    </tr>\n",
       "  </tbody>\n",
       "</table>\n"
      ],
      "text/plain": [
       "<pandas.io.formats.style.Styler at 0x23b01a7e190>"
      ]
     },
     "execution_count": 31,
     "metadata": {},
     "output_type": "execute_result"
    }
   ],
   "source": [
    "report = data_ohe.isna().sum().to_frame()\n",
    "report = report.rename(columns = {0: 'missing_values'})\n",
    "report['% of total'] = (report['missing_values'] / data_ohe.shape[0]).round(2)\n",
    "report.sort_values(by = 'missing_values', ascending = False).style.background_gradient('coolwarm')"
   ]
  },
  {
   "cell_type": "markdown",
   "id": "846d9b2e",
   "metadata": {},
   "source": [
    "<div style=\"border:solid black 2px; padding: 20px\"> <b>Note on data preparation for ML:</b><br>\n",
    "After filling the missing values in the categorical features, and removing outliers from the noncategorical features, the categorical features were converted to numerical values to use for machine learning models. \n",
    "although OrdinalEncoder might not be optimal, there were too many values in the features: \"vehicletype\", \"fueltype\", \"model\", \"brand\", that converting these features with ohe would be cause the model to use too much CPU and will take way too long to compute the answer, which is very important for an app such as this with users that will want to have the answer fast. \n"
   ]
  },
  {
   "cell_type": "markdown",
   "id": "25bb4ea4",
   "metadata": {},
   "source": [
    "## Train different models with various hyperparameters<a class=\"anchor\" id=\"train\"></a>"
   ]
  },
  {
   "cell_type": "markdown",
   "id": "b66de1dd",
   "metadata": {},
   "source": [
    "In this section, 4 different machine learning models are trained to achieve the best prediction and compering these models using the RMSE metric to evaluate the models.\n",
    "The models are Regression models beacuse they are used to predict the continuous values such as price.\n",
    "\n",
    "the models:\n",
    "* Random forrest Regressor\n",
    "* LightGBM Regressor\n",
    "* CatBoost Regressor\n",
    "*  XGBoost Regressor"
   ]
  },
  {
   "cell_type": "markdown",
   "id": "1e32adcc",
   "metadata": {},
   "source": [
    "### Split the data <a class=\"anchor\" id=\"split\"></a>"
   ]
  },
  {
   "cell_type": "code",
   "execution_count": 32,
   "id": "771d0745",
   "metadata": {},
   "outputs": [],
   "source": [
    "#splitting for training, validation, and test sets\n",
    "train_df1, test_df = train_test_split(data_ohe, test_size=0.2, random_state=12345)\n",
    "train_df, valid_df = train_test_split(train_df1, test_size=0.25, random_state=12345)"
   ]
  },
  {
   "cell_type": "code",
   "execution_count": 33,
   "id": "eb7ff2dc",
   "metadata": {},
   "outputs": [],
   "source": [
    "#features without a target\n",
    "features_train = train_df.drop('price',axis=1)\n",
    "features_valid = valid_df.drop('price',axis=1)\n",
    "features_test = test_df.drop('price',axis=1)"
   ]
  },
  {
   "cell_type": "code",
   "execution_count": 34,
   "id": "f91eb72b",
   "metadata": {},
   "outputs": [
    {
     "name": "stdout",
     "output_type": "stream",
     "text": [
      "features_train: (171515, 12)\n",
      "features_train: (57172, 12)\n",
      "features_test: (57172, 12)\n"
     ]
    }
   ],
   "source": [
    "print(\"features_train:\",features_train.shape)\n",
    "print(\"features_train:\",features_valid.shape)\n",
    "print(\"features_test:\",features_test.shape)"
   ]
  },
  {
   "cell_type": "code",
   "execution_count": 35,
   "id": "dad0cf77",
   "metadata": {},
   "outputs": [],
   "source": [
    "#target \n",
    "target_train = train_df['price']\n",
    "target_valid = valid_df['price']\n",
    "target_test = test_df['price']"
   ]
  },
  {
   "cell_type": "code",
   "execution_count": 36,
   "id": "9edf89fc",
   "metadata": {},
   "outputs": [
    {
     "name": "stdout",
     "output_type": "stream",
     "text": [
      "target_train: (171515,)\n",
      "target_valid: (57172,)\n",
      "target_test: (57172,)\n"
     ]
    }
   ],
   "source": [
    "print(\"target_train:\",target_train.shape)\n",
    "print(\"target_valid:\",target_valid.shape)\n",
    "print(\"target_test:\",target_test.shape)"
   ]
  },
  {
   "cell_type": "markdown",
   "id": "f7c85c70",
   "metadata": {},
   "source": [
    "### Random Forest Regressor<a class=\"anchor\" id=\"RandomForestRegressor\"></a>"
   ]
  },
  {
   "cell_type": "code",
   "execution_count": 37,
   "id": "7772632c",
   "metadata": {},
   "outputs": [],
   "source": [
    "\n",
    "#seting an empthy data frame\n",
    "rf_parameters = pd.DataFrame()\n",
    "#lists for dataframe\n",
    "rf_score_train = []\n",
    "rf_score_valid = []\n",
    "estimators = []\n",
    "depths = []\n",
    "#iteration through different parameters to find the best RandomForestRegressor parameters\n",
    "for n in range(10,50, 10):\n",
    "    for depth in range(10, 50 ,10):\n",
    "        model=RandomForestRegressor(max_depth=depth, n_estimators= n, random_state=12345)\n",
    "        model.fit(features_train, target_train)\n",
    "        y_train_pred = model.predict(features_train)\n",
    "        y_val_pred = model.predict(features_valid)\n",
    "        train_error_RMSE = (mean_squared_error(target_train, y_train_pred))**0.5\n",
    "        validation_RMSE = (mean_squared_error(target_valid, y_val_pred))**0.5\n",
    "\n",
    "        rf_score_train.append(train_error_RMSE)\n",
    "        rf_score_valid.append(validation_RMSE)\n",
    "        estimators.append(n)\n",
    "        depths.append(depth)\n",
    "rf_parameters['n_estimators'] = estimators\n",
    "rf_parameters['depths']=depths\n",
    "rf_parameters['RMSE_score_train']=rf_score_train\n",
    "rf_parameters['RMSE_score_valid']=rf_score_valid\n"
   ]
  },
  {
   "cell_type": "code",
   "execution_count": 38,
   "id": "e627329e",
   "metadata": {},
   "outputs": [
    {
     "data": {
      "text/html": [
       "<div>\n",
       "<style scoped>\n",
       "    .dataframe tbody tr th:only-of-type {\n",
       "        vertical-align: middle;\n",
       "    }\n",
       "\n",
       "    .dataframe tbody tr th {\n",
       "        vertical-align: top;\n",
       "    }\n",
       "\n",
       "    .dataframe thead th {\n",
       "        text-align: right;\n",
       "    }\n",
       "</style>\n",
       "<table border=\"1\" class=\"dataframe\">\n",
       "  <thead>\n",
       "    <tr style=\"text-align: right;\">\n",
       "      <th></th>\n",
       "      <th>n_estimators</th>\n",
       "      <th>depths</th>\n",
       "      <th>RMSE_score_train</th>\n",
       "      <th>RMSE_score_valid</th>\n",
       "    </tr>\n",
       "  </thead>\n",
       "  <tbody>\n",
       "    <tr>\n",
       "      <th>15</th>\n",
       "      <td>40</td>\n",
       "      <td>40</td>\n",
       "      <td>621.689535</td>\n",
       "      <td>1597.148813</td>\n",
       "    </tr>\n",
       "  </tbody>\n",
       "</table>\n",
       "</div>"
      ],
      "text/plain": [
       "    n_estimators  depths  RMSE_score_train  RMSE_score_valid\n",
       "15            40      40        621.689535       1597.148813"
      ]
     },
     "execution_count": 38,
     "metadata": {},
     "output_type": "execute_result"
    }
   ],
   "source": [
    "rf_parameters[rf_parameters['RMSE_score_valid'] == rf_parameters.RMSE_score_valid.min()]"
   ]
  },
  {
   "cell_type": "markdown",
   "id": "690f17f1",
   "metadata": {},
   "source": [
    "### LightGBM regressor <a class=\"anchor\" id=\"LightGBM\"></a>"
   ]
  },
  {
   "cell_type": "code",
   "execution_count": 39,
   "id": "ae1e720d",
   "metadata": {},
   "outputs": [],
   "source": [
    "\n",
    "#seting an empthy data frame\n",
    "lgm_parameters = pd.DataFrame()\n",
    "#lists for dataframe\n",
    "lgm_score_train = []\n",
    "lgm_score_valid = []\n",
    "estimators = []\n",
    "depths = []\n",
    "#iteration through different parameters to find the best RandomForestRegressor parameters\n",
    "for n in range(20,200, 10):\n",
    "    for depth in range(10, 200 ,10):\n",
    "        model=lgb.LGBMRegressor(boosting_type='gbdt', max_depth=- depth, n_estimators=n)\n",
    "        model.fit(features_train, target_train)\n",
    "        y_train_pred = model.predict(features_train)\n",
    "        y_val_pred = model.predict(features_valid)\n",
    "        train_error_RMSE = (mean_squared_error(target_train, y_train_pred))**0.5\n",
    "        validation_RMSE = (mean_squared_error(target_valid, y_val_pred))**0.5\n",
    "        \n",
    "        lgm_score_train.append(train_error_RMSE)\n",
    "        lgm_score_valid.append(validation_RMSE)\n",
    "        estimators.append(n)\n",
    "        depths.append(depth)\n",
    "lgm_parameters['n_estimators'] = estimators\n",
    "lgm_parameters['depths']=depths\n",
    "lgm_parameters['RMSE_score_train']=lgm_score_train\n",
    "lgm_parameters['RMSE_score_valid']=lgm_score_valid"
   ]
  },
  {
   "cell_type": "code",
   "execution_count": 40,
   "id": "5fad9ee9",
   "metadata": {},
   "outputs": [
    {
     "data": {
      "text/html": [
       "<div>\n",
       "<style scoped>\n",
       "    .dataframe tbody tr th:only-of-type {\n",
       "        vertical-align: middle;\n",
       "    }\n",
       "\n",
       "    .dataframe tbody tr th {\n",
       "        vertical-align: top;\n",
       "    }\n",
       "\n",
       "    .dataframe thead th {\n",
       "        text-align: right;\n",
       "    }\n",
       "</style>\n",
       "<table border=\"1\" class=\"dataframe\">\n",
       "  <thead>\n",
       "    <tr style=\"text-align: right;\">\n",
       "      <th></th>\n",
       "      <th>n_estimators</th>\n",
       "      <th>depths</th>\n",
       "      <th>RMSE_score_train</th>\n",
       "      <th>RMSE_score_valid</th>\n",
       "    </tr>\n",
       "  </thead>\n",
       "  <tbody>\n",
       "    <tr>\n",
       "      <th>323</th>\n",
       "      <td>190</td>\n",
       "      <td>10</td>\n",
       "      <td>1598.585261</td>\n",
       "      <td>1655.763308</td>\n",
       "    </tr>\n",
       "    <tr>\n",
       "      <th>324</th>\n",
       "      <td>190</td>\n",
       "      <td>20</td>\n",
       "      <td>1598.585261</td>\n",
       "      <td>1655.763308</td>\n",
       "    </tr>\n",
       "    <tr>\n",
       "      <th>325</th>\n",
       "      <td>190</td>\n",
       "      <td>30</td>\n",
       "      <td>1598.585261</td>\n",
       "      <td>1655.763308</td>\n",
       "    </tr>\n",
       "    <tr>\n",
       "      <th>326</th>\n",
       "      <td>190</td>\n",
       "      <td>40</td>\n",
       "      <td>1598.585261</td>\n",
       "      <td>1655.763308</td>\n",
       "    </tr>\n",
       "    <tr>\n",
       "      <th>327</th>\n",
       "      <td>190</td>\n",
       "      <td>50</td>\n",
       "      <td>1598.585261</td>\n",
       "      <td>1655.763308</td>\n",
       "    </tr>\n",
       "    <tr>\n",
       "      <th>328</th>\n",
       "      <td>190</td>\n",
       "      <td>60</td>\n",
       "      <td>1598.585261</td>\n",
       "      <td>1655.763308</td>\n",
       "    </tr>\n",
       "    <tr>\n",
       "      <th>329</th>\n",
       "      <td>190</td>\n",
       "      <td>70</td>\n",
       "      <td>1598.585261</td>\n",
       "      <td>1655.763308</td>\n",
       "    </tr>\n",
       "    <tr>\n",
       "      <th>330</th>\n",
       "      <td>190</td>\n",
       "      <td>80</td>\n",
       "      <td>1598.585261</td>\n",
       "      <td>1655.763308</td>\n",
       "    </tr>\n",
       "    <tr>\n",
       "      <th>331</th>\n",
       "      <td>190</td>\n",
       "      <td>90</td>\n",
       "      <td>1598.585261</td>\n",
       "      <td>1655.763308</td>\n",
       "    </tr>\n",
       "    <tr>\n",
       "      <th>332</th>\n",
       "      <td>190</td>\n",
       "      <td>100</td>\n",
       "      <td>1598.585261</td>\n",
       "      <td>1655.763308</td>\n",
       "    </tr>\n",
       "    <tr>\n",
       "      <th>333</th>\n",
       "      <td>190</td>\n",
       "      <td>110</td>\n",
       "      <td>1598.585261</td>\n",
       "      <td>1655.763308</td>\n",
       "    </tr>\n",
       "    <tr>\n",
       "      <th>334</th>\n",
       "      <td>190</td>\n",
       "      <td>120</td>\n",
       "      <td>1598.585261</td>\n",
       "      <td>1655.763308</td>\n",
       "    </tr>\n",
       "    <tr>\n",
       "      <th>335</th>\n",
       "      <td>190</td>\n",
       "      <td>130</td>\n",
       "      <td>1598.585261</td>\n",
       "      <td>1655.763308</td>\n",
       "    </tr>\n",
       "    <tr>\n",
       "      <th>336</th>\n",
       "      <td>190</td>\n",
       "      <td>140</td>\n",
       "      <td>1598.585261</td>\n",
       "      <td>1655.763308</td>\n",
       "    </tr>\n",
       "    <tr>\n",
       "      <th>337</th>\n",
       "      <td>190</td>\n",
       "      <td>150</td>\n",
       "      <td>1598.585261</td>\n",
       "      <td>1655.763308</td>\n",
       "    </tr>\n",
       "    <tr>\n",
       "      <th>338</th>\n",
       "      <td>190</td>\n",
       "      <td>160</td>\n",
       "      <td>1598.585261</td>\n",
       "      <td>1655.763308</td>\n",
       "    </tr>\n",
       "    <tr>\n",
       "      <th>339</th>\n",
       "      <td>190</td>\n",
       "      <td>170</td>\n",
       "      <td>1598.585261</td>\n",
       "      <td>1655.763308</td>\n",
       "    </tr>\n",
       "    <tr>\n",
       "      <th>340</th>\n",
       "      <td>190</td>\n",
       "      <td>180</td>\n",
       "      <td>1598.585261</td>\n",
       "      <td>1655.763308</td>\n",
       "    </tr>\n",
       "    <tr>\n",
       "      <th>341</th>\n",
       "      <td>190</td>\n",
       "      <td>190</td>\n",
       "      <td>1598.585261</td>\n",
       "      <td>1655.763308</td>\n",
       "    </tr>\n",
       "  </tbody>\n",
       "</table>\n",
       "</div>"
      ],
      "text/plain": [
       "     n_estimators  depths  RMSE_score_train  RMSE_score_valid\n",
       "323           190      10       1598.585261       1655.763308\n",
       "324           190      20       1598.585261       1655.763308\n",
       "325           190      30       1598.585261       1655.763308\n",
       "326           190      40       1598.585261       1655.763308\n",
       "327           190      50       1598.585261       1655.763308\n",
       "328           190      60       1598.585261       1655.763308\n",
       "329           190      70       1598.585261       1655.763308\n",
       "330           190      80       1598.585261       1655.763308\n",
       "331           190      90       1598.585261       1655.763308\n",
       "332           190     100       1598.585261       1655.763308\n",
       "333           190     110       1598.585261       1655.763308\n",
       "334           190     120       1598.585261       1655.763308\n",
       "335           190     130       1598.585261       1655.763308\n",
       "336           190     140       1598.585261       1655.763308\n",
       "337           190     150       1598.585261       1655.763308\n",
       "338           190     160       1598.585261       1655.763308\n",
       "339           190     170       1598.585261       1655.763308\n",
       "340           190     180       1598.585261       1655.763308\n",
       "341           190     190       1598.585261       1655.763308"
      ]
     },
     "execution_count": 40,
     "metadata": {},
     "output_type": "execute_result"
    }
   ],
   "source": [
    "lgm_parameters[lgm_parameters['RMSE_score_valid'] == lgm_parameters.RMSE_score_valid.min()]"
   ]
  },
  {
   "cell_type": "markdown",
   "id": "84dc626e",
   "metadata": {},
   "source": [
    "### Catboost regressor<a class=\"anchor\" id=\"Catboost\"></a>"
   ]
  },
  {
   "cell_type": "code",
   "execution_count": 41,
   "id": "49bbdfeb",
   "metadata": {},
   "outputs": [
    {
     "name": "stdout",
     "output_type": "stream",
     "text": [
      "Learning rate set to 0.5\n",
      "0:\tlearn: 4626.8653908\ttotal: 166ms\tremaining: 8.13s\n",
      "10:\tlearn: 4626.8653908\ttotal: 221ms\tremaining: 784ms\n",
      "20:\tlearn: 4626.8653908\ttotal: 272ms\tremaining: 376ms\n",
      "30:\tlearn: 4626.8653908\ttotal: 322ms\tremaining: 198ms\n",
      "40:\tlearn: 4626.8653908\ttotal: 373ms\tremaining: 81.8ms\n",
      "49:\tlearn: 4626.8653908\ttotal: 430ms\tremaining: 0us\n",
      "Learning rate set to 0.5\n",
      "0:\tlearn: 3452.3584164\ttotal: 33.3ms\tremaining: 1.63s\n",
      "10:\tlearn: 2059.3038437\ttotal: 509ms\tremaining: 1.8s\n",
      "20:\tlearn: 1940.7708425\ttotal: 857ms\tremaining: 1.18s\n",
      "30:\tlearn: 1884.9458249\ttotal: 1.28s\tremaining: 784ms\n",
      "40:\tlearn: 1842.8370335\ttotal: 1.58s\tremaining: 348ms\n",
      "49:\tlearn: 1816.9635815\ttotal: 1.83s\tremaining: 0us\n",
      "Learning rate set to 0.5\n",
      "0:\tlearn: 3208.2603380\ttotal: 48.9ms\tremaining: 2.39s\n",
      "10:\tlearn: 1836.7254128\ttotal: 522ms\tremaining: 1.85s\n",
      "20:\tlearn: 1746.5052659\ttotal: 976ms\tremaining: 1.35s\n",
      "30:\tlearn: 1695.4719718\ttotal: 1.45s\tremaining: 890ms\n",
      "40:\tlearn: 1657.9623569\ttotal: 1.95s\tremaining: 429ms\n",
      "49:\tlearn: 1637.9234160\ttotal: 2.37s\tremaining: 0us\n",
      "Learning rate set to 0.5\n",
      "0:\tlearn: 3105.6670981\ttotal: 106ms\tremaining: 5.21s\n",
      "10:\tlearn: 1695.7781342\ttotal: 1.19s\tremaining: 4.21s\n",
      "20:\tlearn: 1593.1321938\ttotal: 2.25s\tremaining: 3.11s\n",
      "30:\tlearn: 1517.0362775\ttotal: 3.36s\tremaining: 2.06s\n",
      "40:\tlearn: 1459.3134796\ttotal: 4.46s\tremaining: 979ms\n",
      "49:\tlearn: 1417.1445496\ttotal: 5.44s\tremaining: 0us\n",
      "Learning rate set to 0.5\n",
      "0:\tlearn: 3051.1677390\ttotal: 855ms\tremaining: 41.9s\n",
      "10:\tlearn: 1555.7685279\ttotal: 10.1s\tremaining: 35.8s\n",
      "20:\tlearn: 1390.3076913\ttotal: 18.2s\tremaining: 25.1s\n",
      "30:\tlearn: 1294.0377920\ttotal: 26.3s\tremaining: 16.1s\n",
      "40:\tlearn: 1212.0151184\ttotal: 34.7s\tremaining: 7.62s\n",
      "49:\tlearn: 1145.2398116\ttotal: 42.3s\tremaining: 0us\n",
      "Learning rate set to 0.5\n",
      "0:\tlearn: 4626.8653908\ttotal: 6.49ms\tremaining: 643ms\n",
      "10:\tlearn: 4626.8653908\ttotal: 60.8ms\tremaining: 492ms\n",
      "20:\tlearn: 4626.8653908\ttotal: 112ms\tremaining: 422ms\n",
      "30:\tlearn: 4626.8653908\ttotal: 165ms\tremaining: 366ms\n",
      "40:\tlearn: 4626.8653908\ttotal: 219ms\tremaining: 315ms\n",
      "50:\tlearn: 4626.8653908\ttotal: 272ms\tremaining: 262ms\n",
      "60:\tlearn: 4626.8653908\ttotal: 331ms\tremaining: 212ms\n",
      "70:\tlearn: 4626.8653908\ttotal: 384ms\tremaining: 157ms\n",
      "80:\tlearn: 4626.8653908\ttotal: 439ms\tremaining: 103ms\n",
      "90:\tlearn: 4626.8653908\ttotal: 495ms\tremaining: 48.9ms\n",
      "99:\tlearn: 4626.8653908\ttotal: 541ms\tremaining: 0us\n",
      "Learning rate set to 0.5\n",
      "0:\tlearn: 3452.3584164\ttotal: 28.4ms\tremaining: 2.82s\n",
      "10:\tlearn: 2059.3038437\ttotal: 362ms\tremaining: 2.93s\n",
      "20:\tlearn: 1940.7708425\ttotal: 652ms\tremaining: 2.45s\n",
      "30:\tlearn: 1884.9458249\ttotal: 942ms\tremaining: 2.1s\n",
      "40:\tlearn: 1842.8370335\ttotal: 1.36s\tremaining: 1.95s\n",
      "50:\tlearn: 1814.7035252\ttotal: 1.74s\tremaining: 1.67s\n",
      "60:\tlearn: 1789.2976537\ttotal: 2.08s\tremaining: 1.33s\n",
      "70:\tlearn: 1772.3160629\ttotal: 2.4s\tremaining: 982ms\n",
      "80:\tlearn: 1755.9413145\ttotal: 2.7s\tremaining: 634ms\n",
      "90:\tlearn: 1743.6809595\ttotal: 2.98s\tremaining: 295ms\n",
      "99:\tlearn: 1733.6075723\ttotal: 3.24s\tremaining: 0us\n",
      "Learning rate set to 0.5\n",
      "0:\tlearn: 3208.2603380\ttotal: 57.1ms\tremaining: 5.65s\n",
      "10:\tlearn: 1836.7254128\ttotal: 1.05s\tremaining: 8.49s\n",
      "20:\tlearn: 1746.5052659\ttotal: 2.07s\tremaining: 7.78s\n",
      "30:\tlearn: 1695.4719718\ttotal: 2.83s\tremaining: 6.29s\n",
      "40:\tlearn: 1657.9623569\ttotal: 3.5s\tremaining: 5.04s\n",
      "50:\tlearn: 1633.8964549\ttotal: 4.03s\tremaining: 3.87s\n",
      "60:\tlearn: 1606.6981777\ttotal: 4.58s\tremaining: 2.92s\n",
      "70:\tlearn: 1585.0017015\ttotal: 5.1s\tremaining: 2.08s\n",
      "80:\tlearn: 1566.3829492\ttotal: 5.63s\tremaining: 1.32s\n",
      "90:\tlearn: 1546.2210934\ttotal: 6.22s\tremaining: 615ms\n",
      "99:\tlearn: 1535.5111551\ttotal: 6.73s\tremaining: 0us\n",
      "Learning rate set to 0.5\n",
      "0:\tlearn: 3105.6670981\ttotal: 120ms\tremaining: 11.9s\n",
      "10:\tlearn: 1695.7781342\ttotal: 1.22s\tremaining: 9.83s\n",
      "20:\tlearn: 1593.1321938\ttotal: 2.37s\tremaining: 8.9s\n",
      "30:\tlearn: 1517.0362775\ttotal: 3.33s\tremaining: 7.41s\n",
      "40:\tlearn: 1459.3134796\ttotal: 4.34s\tremaining: 6.25s\n",
      "50:\tlearn: 1414.1345457\ttotal: 5.34s\tremaining: 5.13s\n",
      "60:\tlearn: 1379.4708876\ttotal: 6.33s\tremaining: 4.05s\n",
      "70:\tlearn: 1351.8208355\ttotal: 7.3s\tremaining: 2.98s\n",
      "80:\tlearn: 1324.8253094\ttotal: 8.29s\tremaining: 1.94s\n",
      "90:\tlearn: 1290.9233515\ttotal: 9.27s\tremaining: 917ms\n",
      "99:\tlearn: 1272.4461942\ttotal: 10.2s\tremaining: 0us\n",
      "Learning rate set to 0.5\n",
      "0:\tlearn: 3051.1677390\ttotal: 828ms\tremaining: 1m 22s\n",
      "10:\tlearn: 1555.7685279\ttotal: 9.02s\tremaining: 1m 13s\n",
      "20:\tlearn: 1390.3076913\ttotal: 17.4s\tremaining: 1m 5s\n",
      "30:\tlearn: 1294.0377920\ttotal: 25.5s\tremaining: 56.9s\n",
      "40:\tlearn: 1212.0151184\ttotal: 33.8s\tremaining: 48.6s\n",
      "50:\tlearn: 1131.4857478\ttotal: 42.5s\tremaining: 40.8s\n",
      "60:\tlearn: 1056.3165506\ttotal: 51.6s\tremaining: 33s\n",
      "70:\tlearn: 997.8637050\ttotal: 1m\tremaining: 24.6s\n",
      "80:\tlearn: 958.3437405\ttotal: 1m 8s\tremaining: 16.2s\n",
      "90:\tlearn: 916.9914303\ttotal: 1m 18s\tremaining: 7.73s\n",
      "99:\tlearn: 884.2975614\ttotal: 1m 25s\tremaining: 0us\n",
      "Learning rate set to 0.431556\n",
      "0:\tlearn: 4626.8653908\ttotal: 6.49ms\tremaining: 967ms\n",
      "10:\tlearn: 4626.8653908\ttotal: 55.2ms\tremaining: 697ms\n",
      "20:\tlearn: 4626.8653908\ttotal: 101ms\tremaining: 622ms\n",
      "30:\tlearn: 4626.8653908\ttotal: 148ms\tremaining: 567ms\n",
      "40:\tlearn: 4626.8653908\ttotal: 194ms\tremaining: 516ms\n",
      "50:\tlearn: 4626.8653908\ttotal: 241ms\tremaining: 469ms\n",
      "60:\tlearn: 4626.8653908\ttotal: 289ms\tremaining: 421ms\n",
      "70:\tlearn: 4626.8653908\ttotal: 339ms\tremaining: 377ms\n",
      "80:\tlearn: 4626.8653908\ttotal: 387ms\tremaining: 329ms\n",
      "90:\tlearn: 4626.8653908\ttotal: 438ms\tremaining: 284ms\n",
      "100:\tlearn: 4626.8653908\ttotal: 488ms\tremaining: 237ms\n",
      "110:\tlearn: 4626.8653908\ttotal: 538ms\tremaining: 189ms\n",
      "120:\tlearn: 4626.8653908\ttotal: 589ms\tremaining: 141ms\n",
      "130:\tlearn: 4626.8653908\ttotal: 639ms\tremaining: 92.6ms\n",
      "140:\tlearn: 4626.8653908\ttotal: 691ms\tremaining: 44.1ms\n",
      "149:\tlearn: 4626.8653908\ttotal: 744ms\tremaining: 0us\n",
      "Learning rate set to 0.431556\n",
      "0:\tlearn: 3583.8765752\ttotal: 25.1ms\tremaining: 3.74s\n",
      "10:\tlearn: 2070.9818750\ttotal: 499ms\tremaining: 6.3s\n",
      "20:\tlearn: 1956.9309652\ttotal: 851ms\tremaining: 5.22s\n",
      "30:\tlearn: 1888.7921960\ttotal: 1.14s\tremaining: 4.36s\n",
      "40:\tlearn: 1847.5707405\ttotal: 1.56s\tremaining: 4.14s\n",
      "50:\tlearn: 1818.0573496\ttotal: 1.84s\tremaining: 3.58s\n",
      "60:\tlearn: 1799.8537665\ttotal: 2.11s\tremaining: 3.07s\n",
      "70:\tlearn: 1783.0671100\ttotal: 2.4s\tremaining: 2.67s\n",
      "80:\tlearn: 1769.7016891\ttotal: 2.72s\tremaining: 2.32s\n",
      "90:\tlearn: 1756.9147863\ttotal: 3.09s\tremaining: 2s\n",
      "100:\tlearn: 1742.6267163\ttotal: 3.43s\tremaining: 1.66s\n",
      "110:\tlearn: 1734.1075293\ttotal: 3.71s\tremaining: 1.3s\n",
      "120:\tlearn: 1724.8436269\ttotal: 4s\tremaining: 960ms\n",
      "130:\tlearn: 1716.3681498\ttotal: 4.58s\tremaining: 665ms\n",
      "140:\tlearn: 1708.8214324\ttotal: 5.12s\tremaining: 326ms\n",
      "149:\tlearn: 1704.5725183\ttotal: 5.42s\tremaining: 0us\n",
      "Learning rate set to 0.431556\n",
      "0:\tlearn: 3373.0171503\ttotal: 50.4ms\tremaining: 7.51s\n",
      "10:\tlearn: 1849.2214535\ttotal: 537ms\tremaining: 6.78s\n",
      "20:\tlearn: 1758.1826928\ttotal: 1.31s\tremaining: 8.08s\n",
      "30:\tlearn: 1707.0598162\ttotal: 1.89s\tremaining: 7.25s\n",
      "40:\tlearn: 1666.1745294\ttotal: 2.39s\tremaining: 6.35s\n",
      "50:\tlearn: 1635.7102016\ttotal: 2.98s\tremaining: 5.79s\n",
      "60:\tlearn: 1612.2570153\ttotal: 3.66s\tremaining: 5.34s\n",
      "70:\tlearn: 1595.8311831\ttotal: 4.23s\tremaining: 4.7s\n",
      "80:\tlearn: 1574.9282081\ttotal: 4.95s\tremaining: 4.22s\n",
      "90:\tlearn: 1560.4721027\ttotal: 5.5s\tremaining: 3.57s\n",
      "100:\tlearn: 1547.5196982\ttotal: 5.99s\tremaining: 2.91s\n",
      "110:\tlearn: 1536.4388422\ttotal: 6.44s\tremaining: 2.26s\n",
      "120:\tlearn: 1525.9837972\ttotal: 6.97s\tremaining: 1.67s\n",
      "130:\tlearn: 1513.0497580\ttotal: 7.48s\tremaining: 1.08s\n",
      "140:\tlearn: 1499.2994671\ttotal: 8s\tremaining: 510ms\n",
      "149:\tlearn: 1492.5478957\ttotal: 8.42s\tremaining: 0us\n",
      "Learning rate set to 0.431556\n",
      "0:\tlearn: 3285.4325001\ttotal: 98.3ms\tremaining: 14.6s\n",
      "10:\tlearn: 1724.0373417\ttotal: 1.15s\tremaining: 14.5s\n",
      "20:\tlearn: 1610.9900270\ttotal: 2.3s\tremaining: 14.1s\n",
      "30:\tlearn: 1549.7956285\ttotal: 3.44s\tremaining: 13.2s\n",
      "40:\tlearn: 1499.3003720\ttotal: 4.43s\tremaining: 11.8s\n",
      "50:\tlearn: 1452.2540830\ttotal: 5.45s\tremaining: 10.6s\n",
      "60:\tlearn: 1404.9277268\ttotal: 6.51s\tremaining: 9.5s\n",
      "70:\tlearn: 1366.9657899\ttotal: 7.56s\tremaining: 8.41s\n",
      "80:\tlearn: 1335.4806421\ttotal: 8.68s\tremaining: 7.39s\n",
      "90:\tlearn: 1307.5167691\ttotal: 9.74s\tremaining: 6.32s\n",
      "100:\tlearn: 1287.9550196\ttotal: 10.7s\tremaining: 5.2s\n",
      "110:\tlearn: 1264.3582575\ttotal: 11.7s\tremaining: 4.11s\n",
      "120:\tlearn: 1247.4053298\ttotal: 12.7s\tremaining: 3.05s\n",
      "130:\tlearn: 1225.7148679\ttotal: 13.8s\tremaining: 2s\n",
      "140:\tlearn: 1203.5332798\ttotal: 14.9s\tremaining: 953ms\n",
      "149:\tlearn: 1192.4620714\ttotal: 15.9s\tremaining: 0us\n",
      "Learning rate set to 0.431556\n",
      "0:\tlearn: 3239.4792603\ttotal: 918ms\tremaining: 2m 16s\n",
      "10:\tlearn: 1575.3002720\ttotal: 10.1s\tremaining: 2m 7s\n",
      "20:\tlearn: 1441.9632147\ttotal: 18.6s\tremaining: 1m 54s\n",
      "30:\tlearn: 1324.0152902\ttotal: 27s\tremaining: 1m 43s\n",
      "40:\tlearn: 1232.7435747\ttotal: 35.5s\tremaining: 1m 34s\n",
      "50:\tlearn: 1163.5125714\ttotal: 44.1s\tremaining: 1m 25s\n",
      "60:\tlearn: 1101.0355949\ttotal: 52.4s\tremaining: 1m 16s\n",
      "70:\tlearn: 1051.1496595\ttotal: 1m\tremaining: 1m 7s\n",
      "80:\tlearn: 1005.8608586\ttotal: 1m 9s\tremaining: 59.2s\n",
      "90:\tlearn: 964.8872275\ttotal: 1m 17s\tremaining: 50.5s\n",
      "100:\tlearn: 931.0307595\ttotal: 1m 26s\tremaining: 41.9s\n",
      "110:\tlearn: 898.1458614\ttotal: 1m 35s\tremaining: 33.4s\n",
      "120:\tlearn: 864.7296425\ttotal: 1m 44s\tremaining: 25s\n",
      "130:\tlearn: 835.5090448\ttotal: 1m 52s\tremaining: 16.3s\n",
      "140:\tlearn: 812.0408474\ttotal: 2m\tremaining: 7.71s\n",
      "149:\tlearn: 791.9362326\ttotal: 2m 8s\tremaining: 0us\n",
      "Learning rate set to 0.341556\n",
      "0:\tlearn: 4626.8653908\ttotal: 6.38ms\tremaining: 1.27s\n",
      "10:\tlearn: 4626.8653908\ttotal: 55.4ms\tremaining: 951ms\n",
      "20:\tlearn: 4626.8653908\ttotal: 105ms\tremaining: 892ms\n",
      "30:\tlearn: 4626.8653908\ttotal: 157ms\tremaining: 855ms\n",
      "40:\tlearn: 4626.8653908\ttotal: 208ms\tremaining: 808ms\n",
      "50:\tlearn: 4626.8653908\ttotal: 259ms\tremaining: 758ms\n",
      "60:\tlearn: 4626.8653908\ttotal: 310ms\tremaining: 706ms\n",
      "70:\tlearn: 4626.8653908\ttotal: 361ms\tremaining: 656ms\n",
      "80:\tlearn: 4626.8653908\ttotal: 412ms\tremaining: 606ms\n",
      "90:\tlearn: 4626.8653908\ttotal: 465ms\tremaining: 557ms\n",
      "100:\tlearn: 4626.8653908\ttotal: 518ms\tremaining: 508ms\n",
      "110:\tlearn: 4626.8653908\ttotal: 569ms\tremaining: 456ms\n",
      "120:\tlearn: 4626.8653908\ttotal: 620ms\tremaining: 405ms\n",
      "130:\tlearn: 4626.8653908\ttotal: 675ms\tremaining: 355ms\n",
      "140:\tlearn: 4626.8653908\ttotal: 731ms\tremaining: 306ms\n",
      "150:\tlearn: 4626.8653908\ttotal: 784ms\tremaining: 254ms\n",
      "160:\tlearn: 4626.8653908\ttotal: 837ms\tremaining: 203ms\n",
      "170:\tlearn: 4626.8653908\ttotal: 897ms\tremaining: 152ms\n",
      "180:\tlearn: 4626.8653908\ttotal: 956ms\tremaining: 100ms\n",
      "190:\tlearn: 4626.8653908\ttotal: 1.01s\tremaining: 47.6ms\n",
      "199:\tlearn: 4626.8653908\ttotal: 1.06s\tremaining: 0us\n",
      "Learning rate set to 0.341556\n",
      "0:\tlearn: 3774.2208826\ttotal: 39.2ms\tremaining: 7.8s\n",
      "10:\tlearn: 2096.1231457\ttotal: 413ms\tremaining: 7.1s\n",
      "20:\tlearn: 1955.3353816\ttotal: 819ms\tremaining: 6.98s\n",
      "30:\tlearn: 1893.4918816\ttotal: 1.25s\tremaining: 6.81s\n",
      "40:\tlearn: 1853.3360772\ttotal: 1.62s\tremaining: 6.28s\n",
      "50:\tlearn: 1825.9555761\ttotal: 2.03s\tremaining: 5.92s\n",
      "60:\tlearn: 1804.9854566\ttotal: 2.46s\tremaining: 5.6s\n",
      "70:\tlearn: 1788.1727594\ttotal: 2.85s\tremaining: 5.18s\n",
      "80:\tlearn: 1772.2462559\ttotal: 3.22s\tremaining: 4.73s\n",
      "90:\tlearn: 1759.1286022\ttotal: 3.63s\tremaining: 4.35s\n",
      "100:\tlearn: 1745.7973768\ttotal: 4.04s\tremaining: 3.96s\n",
      "110:\tlearn: 1736.0222638\ttotal: 4.45s\tremaining: 3.56s\n",
      "120:\tlearn: 1727.0031042\ttotal: 4.89s\tremaining: 3.19s\n",
      "130:\tlearn: 1719.2658168\ttotal: 5.3s\tremaining: 2.79s\n",
      "140:\tlearn: 1712.9795020\ttotal: 5.69s\tremaining: 2.38s\n",
      "150:\tlearn: 1706.9489453\ttotal: 6.08s\tremaining: 1.97s\n",
      "160:\tlearn: 1700.4076698\ttotal: 6.45s\tremaining: 1.56s\n",
      "170:\tlearn: 1695.5848741\ttotal: 6.89s\tremaining: 1.17s\n",
      "180:\tlearn: 1690.2299033\ttotal: 7.28s\tremaining: 764ms\n",
      "190:\tlearn: 1684.7715520\ttotal: 7.67s\tremaining: 362ms\n",
      "199:\tlearn: 1678.8641635\ttotal: 8.07s\tremaining: 0us\n",
      "Learning rate set to 0.341556\n",
      "0:\tlearn: 3589.7475942\ttotal: 88.5ms\tremaining: 17.6s\n",
      "10:\tlearn: 1884.4862097\ttotal: 952ms\tremaining: 16.3s\n",
      "20:\tlearn: 1765.1880093\ttotal: 1.75s\tremaining: 14.9s\n",
      "30:\tlearn: 1710.2549794\ttotal: 2.56s\tremaining: 14s\n",
      "40:\tlearn: 1673.8159226\ttotal: 3.39s\tremaining: 13.2s\n",
      "50:\tlearn: 1643.1347792\ttotal: 4.17s\tremaining: 12.2s\n",
      "60:\tlearn: 1621.9354452\ttotal: 4.9s\tremaining: 11.2s\n",
      "70:\tlearn: 1605.1893785\ttotal: 5.68s\tremaining: 10.3s\n",
      "80:\tlearn: 1589.2675159\ttotal: 6.49s\tremaining: 9.54s\n",
      "90:\tlearn: 1571.2820678\ttotal: 7.23s\tremaining: 8.66s\n",
      "100:\tlearn: 1559.7573578\ttotal: 8.09s\tremaining: 7.93s\n",
      "110:\tlearn: 1546.8796186\ttotal: 8.9s\tremaining: 7.14s\n",
      "120:\tlearn: 1537.4019648\ttotal: 9.73s\tremaining: 6.36s\n",
      "130:\tlearn: 1528.1660344\ttotal: 10.5s\tremaining: 5.54s\n",
      "140:\tlearn: 1520.5068487\ttotal: 11.3s\tremaining: 4.73s\n",
      "150:\tlearn: 1508.5158959\ttotal: 12.1s\tremaining: 3.93s\n",
      "160:\tlearn: 1498.4259338\ttotal: 12.9s\tremaining: 3.13s\n",
      "170:\tlearn: 1490.8743432\ttotal: 13.8s\tremaining: 2.33s\n",
      "180:\tlearn: 1484.2397593\ttotal: 14.6s\tremaining: 1.53s\n",
      "190:\tlearn: 1475.7362024\ttotal: 15.4s\tremaining: 727ms\n",
      "199:\tlearn: 1470.4581268\ttotal: 16.3s\tremaining: 0us\n",
      "Learning rate set to 0.341556\n",
      "0:\tlearn: 3504.2966920\ttotal: 163ms\tremaining: 32.4s\n",
      "10:\tlearn: 1719.2372166\ttotal: 1.66s\tremaining: 28.5s\n",
      "20:\tlearn: 1617.2619894\ttotal: 3.15s\tremaining: 26.9s\n",
      "30:\tlearn: 1558.9578228\ttotal: 4.68s\tremaining: 25.5s\n",
      "40:\tlearn: 1502.9212348\ttotal: 6.26s\tremaining: 24.3s\n",
      "50:\tlearn: 1473.3350125\ttotal: 7.73s\tremaining: 22.6s\n",
      "60:\tlearn: 1430.4269321\ttotal: 9.29s\tremaining: 21.2s\n",
      "70:\tlearn: 1404.1977101\ttotal: 10.9s\tremaining: 19.8s\n",
      "80:\tlearn: 1382.7018484\ttotal: 12.5s\tremaining: 18.4s\n",
      "90:\tlearn: 1351.9463621\ttotal: 14.1s\tremaining: 16.9s\n",
      "100:\tlearn: 1329.0350254\ttotal: 15.7s\tremaining: 15.4s\n",
      "110:\tlearn: 1304.8899527\ttotal: 17.3s\tremaining: 13.8s\n",
      "120:\tlearn: 1288.2791685\ttotal: 18.8s\tremaining: 12.3s\n",
      "130:\tlearn: 1269.8714872\ttotal: 20.4s\tremaining: 10.8s\n",
      "140:\tlearn: 1249.7767438\ttotal: 22.1s\tremaining: 9.23s\n",
      "150:\tlearn: 1233.7416185\ttotal: 23.6s\tremaining: 7.67s\n",
      "160:\tlearn: 1220.8538960\ttotal: 25.4s\tremaining: 6.14s\n",
      "170:\tlearn: 1205.5419750\ttotal: 27s\tremaining: 4.58s\n",
      "180:\tlearn: 1191.5208681\ttotal: 28.7s\tremaining: 3.01s\n",
      "190:\tlearn: 1177.4092626\ttotal: 30.4s\tremaining: 1.43s\n",
      "199:\tlearn: 1164.3838941\ttotal: 31.9s\tremaining: 0us\n",
      "Learning rate set to 0.341556\n",
      "0:\tlearn: 3473.0219539\ttotal: 1.06s\tremaining: 3m 31s\n",
      "10:\tlearn: 1574.9034974\ttotal: 12.2s\tremaining: 3m 29s\n",
      "20:\tlearn: 1441.3226316\ttotal: 23.9s\tremaining: 3m 23s\n",
      "30:\tlearn: 1345.0444821\ttotal: 35.5s\tremaining: 3m 13s\n",
      "40:\tlearn: 1261.8986842\ttotal: 48.4s\tremaining: 3m 7s\n",
      "50:\tlearn: 1202.0217170\ttotal: 1m\tremaining: 2m 58s\n",
      "60:\tlearn: 1149.0455519\ttotal: 1m 13s\tremaining: 2m 47s\n",
      "70:\tlearn: 1095.8985242\ttotal: 1m 25s\tremaining: 2m 35s\n",
      "80:\tlearn: 1050.5604899\ttotal: 1m 37s\tremaining: 2m 23s\n",
      "90:\tlearn: 1008.6321709\ttotal: 1m 49s\tremaining: 2m 11s\n",
      "100:\tlearn: 978.7683274\ttotal: 2m 1s\tremaining: 1m 59s\n",
      "110:\tlearn: 946.4295721\ttotal: 2m 13s\tremaining: 1m 47s\n",
      "120:\tlearn: 924.0293743\ttotal: 2m 25s\tremaining: 1m 34s\n",
      "130:\tlearn: 901.1903798\ttotal: 2m 37s\tremaining: 1m 22s\n",
      "140:\tlearn: 878.6189075\ttotal: 2m 48s\tremaining: 1m 10s\n",
      "150:\tlearn: 853.6043996\ttotal: 3m\tremaining: 58.6s\n",
      "160:\tlearn: 825.6966664\ttotal: 3m 12s\tremaining: 46.6s\n",
      "170:\tlearn: 798.8300705\ttotal: 3m 23s\tremaining: 34.5s\n",
      "180:\tlearn: 782.1534591\ttotal: 3m 34s\tremaining: 22.5s\n",
      "190:\tlearn: 762.9778051\ttotal: 3m 46s\tremaining: 10.6s\n",
      "199:\tlearn: 751.3256231\ttotal: 3m 55s\tremaining: 0us\n"
     ]
    }
   ],
   "source": [
    "cat_features = ['vehicletype', 'model', 'fueltype', 'brand', 'notrepaired_yes', 'gearbox_auto']\n",
    "#seting an empthy data frame\n",
    "Catboost_parameters = pd.DataFrame()\n",
    "#lists for dataframe\n",
    "cb_score_train = []\n",
    "cb_score_valid = []\n",
    "estimators = []\n",
    "depths = []\n",
    "#iteration through different parameters to find the best RandomForestRegressor parameters\n",
    "for n in range(50,250, 50):\n",
    "    for depth in range(0, 20 ,4):\n",
    "        model=cb.CatBoostRegressor(max_depth=depth, iterations=n,cat_features=cat_features,loss_function= \"RMSE\",verbose= 10)\n",
    "        model.fit(features_train, target_train)\n",
    "        y_train_pred = model.predict(features_train)\n",
    "        y_val_pred = model.predict(features_valid)\n",
    "        train_error_RMSE = (mean_squared_error(target_train, y_train_pred))**0.5\n",
    "        validation_RMSE = (mean_squared_error(target_valid, y_val_pred))**0.5\n",
    "        \n",
    "        cb_score_train.append(train_error_RMSE)\n",
    "        cb_score_valid.append(validation_RMSE)\n",
    "        estimators.append(n)\n",
    "        depths.append(depth)\n",
    "Catboost_parameters['iterations'] = estimators\n",
    "Catboost_parameters['depths']=depths\n",
    "Catboost_parameters['RMSE_score_train']=cb_score_train\n",
    "Catboost_parameters['RMSE_score_valid']=cb_score_valid"
   ]
  },
  {
   "cell_type": "code",
   "execution_count": 42,
   "id": "5c48230f",
   "metadata": {},
   "outputs": [
    {
     "data": {
      "text/html": [
       "<div>\n",
       "<style scoped>\n",
       "    .dataframe tbody tr th:only-of-type {\n",
       "        vertical-align: middle;\n",
       "    }\n",
       "\n",
       "    .dataframe tbody tr th {\n",
       "        vertical-align: top;\n",
       "    }\n",
       "\n",
       "    .dataframe thead th {\n",
       "        text-align: right;\n",
       "    }\n",
       "</style>\n",
       "<table border=\"1\" class=\"dataframe\">\n",
       "  <thead>\n",
       "    <tr style=\"text-align: right;\">\n",
       "      <th></th>\n",
       "      <th>iterations</th>\n",
       "      <th>depths</th>\n",
       "      <th>RMSE_score_train</th>\n",
       "      <th>RMSE_score_valid</th>\n",
       "    </tr>\n",
       "  </thead>\n",
       "  <tbody>\n",
       "    <tr>\n",
       "      <th>18</th>\n",
       "      <td>200</td>\n",
       "      <td>12</td>\n",
       "      <td>1215.300242</td>\n",
       "      <td>1578.696592</td>\n",
       "    </tr>\n",
       "  </tbody>\n",
       "</table>\n",
       "</div>"
      ],
      "text/plain": [
       "    iterations  depths  RMSE_score_train  RMSE_score_valid\n",
       "18         200      12       1215.300242       1578.696592"
      ]
     },
     "execution_count": 42,
     "metadata": {},
     "output_type": "execute_result"
    }
   ],
   "source": [
    "Catboost_parameters[Catboost_parameters['RMSE_score_valid'] == Catboost_parameters.RMSE_score_valid.min()]"
   ]
  },
  {
   "cell_type": "markdown",
   "id": "053df80b",
   "metadata": {},
   "source": [
    "### XGBoost regressor <a class=\"anchor\" id=\"XGBoost\"></a>"
   ]
  },
  {
   "cell_type": "code",
   "execution_count": 43,
   "id": "0b87a1d9",
   "metadata": {},
   "outputs": [],
   "source": [
    "#model = XGBRegressor(n_estimators=1000, max_depth=7, eta=0.1, subsample=0.7, colsample_bytree=0.8)\n",
    "\n",
    "#seting an empthy data frame\n",
    "XGBoost_parameters = pd.DataFrame()\n",
    "#lists for dataframe\n",
    "xgb_score_train = []\n",
    "xgb_score_valid = []\n",
    "estimators = []\n",
    "depths = []\n",
    "#eta: The learning rate used to weight each model, often set to small values such as 0.3, 0.1, 0.01, or smaller.\n",
    "\n",
    "#iteration through different parameters to find the best RandomForestRegressor parameters\n",
    "for n in range(10,100, 10):\n",
    "    for depth in range(5, 20 ,5):\n",
    "        model=xgb.XGBRegressor(n_estimators=n, max_depth=depth)\n",
    "        model.fit(features_train, target_train)\n",
    "        y_train_pred = model.predict(features_train)\n",
    "        y_val_pred = model.predict(features_valid)\n",
    "        train_error_RMSE = (mean_squared_error(target_train, y_train_pred))**0.5\n",
    "        validation_RMSE = (mean_squared_error(target_valid, y_val_pred))**0.5\n",
    "\n",
    "        xgb_score_train.append(train_error_RMSE)\n",
    "        xgb_score_valid.append(validation_RMSE)\n",
    "        estimators.append(n)\n",
    "        depths.append(depth)\n",
    "        \n",
    "XGBoost_parameters['iterations'] = estimators\n",
    "XGBoost_parameters['depths']=depths\n",
    "XGBoost_parameters['RMSE_score_train']=xgb_score_train\n",
    "XGBoost_parameters['RMSE_score_valid']=xgb_score_valid\n"
   ]
  },
  {
   "cell_type": "code",
   "execution_count": 44,
   "id": "b8f2f2af",
   "metadata": {},
   "outputs": [
    {
     "data": {
      "text/html": [
       "<div>\n",
       "<style scoped>\n",
       "    .dataframe tbody tr th:only-of-type {\n",
       "        vertical-align: middle;\n",
       "    }\n",
       "\n",
       "    .dataframe tbody tr th {\n",
       "        vertical-align: top;\n",
       "    }\n",
       "\n",
       "    .dataframe thead th {\n",
       "        text-align: right;\n",
       "    }\n",
       "</style>\n",
       "<table border=\"1\" class=\"dataframe\">\n",
       "  <thead>\n",
       "    <tr style=\"text-align: right;\">\n",
       "      <th></th>\n",
       "      <th>iterations</th>\n",
       "      <th>depths</th>\n",
       "      <th>RMSE_score_train</th>\n",
       "      <th>RMSE_score_valid</th>\n",
       "    </tr>\n",
       "  </thead>\n",
       "  <tbody>\n",
       "    <tr>\n",
       "      <th>25</th>\n",
       "      <td>90</td>\n",
       "      <td>10</td>\n",
       "      <td>1056.050546</td>\n",
       "      <td>1573.085989</td>\n",
       "    </tr>\n",
       "  </tbody>\n",
       "</table>\n",
       "</div>"
      ],
      "text/plain": [
       "    iterations  depths  RMSE_score_train  RMSE_score_valid\n",
       "25          90      10       1056.050546       1573.085989"
      ]
     },
     "execution_count": 44,
     "metadata": {},
     "output_type": "execute_result"
    }
   ],
   "source": [
    "XGBoost_parameters[XGBoost_parameters['RMSE_score_valid'] == XGBoost_parameters.RMSE_score_valid.min()]"
   ]
  },
  {
   "cell_type": "markdown",
   "id": "a4a5cf5d",
   "metadata": {},
   "source": [
    "## Analyze the speed and quality of the models <a class=\"anchor\" id=\"quality\"></a>"
   ]
  },
  {
   "cell_type": "code",
   "execution_count": 45,
   "id": "cf6dd2bc",
   "metadata": {},
   "outputs": [
    {
     "name": "stdout",
     "output_type": "stream",
     "text": [
      "The RMSE for Random Forest Regressor is: 1605.34\n",
      "Wall time: 14.9 s\n"
     ]
    }
   ],
   "source": [
    "%%time\n",
    "\n",
    "#Random Forest Regressor\n",
    "\n",
    "rf_model = RandomForestRegressor(max_depth=20, n_estimators= 40, random_state=12345)\n",
    "rf_model.fit(features_train, target_train)\n",
    "rf_y_test_pred = model.predict(features_test)\n",
    "rf_test_RMSE = (mean_squared_error(target_test, rf_y_test_pred))**0.5\n",
    "print('The RMSE for Random Forest Regressor is:',round(rf_test_RMSE,2))\n",
    "\n"
   ]
  },
  {
   "cell_type": "code",
   "execution_count": 46,
   "id": "9a53cbf1",
   "metadata": {},
   "outputs": [
    {
     "name": "stdout",
     "output_type": "stream",
     "text": [
      "The RMSE for XGBRegressor is: 1574.87\n",
      "Wall time: 4.1 s\n"
     ]
    }
   ],
   "source": [
    "%%time\n",
    "\n",
    "#XGBRegressor\n",
    "xgb_model = xgb.XGBRegressor(n_estimators=90, max_depth=10)\n",
    "xgb_model.fit(features_train, target_train)\n",
    "xgb_y_val_pred = xgb_model.predict(features_test)\n",
    "xgb_test_RMSE = (mean_squared_error(target_test, xgb_y_val_pred))**0.5\n",
    "print('The RMSE for XGBRegressor is:',round(xgb_test_RMSE,2))"
   ]
  },
  {
   "cell_type": "code",
   "execution_count": 47,
   "id": "bdf56f8f",
   "metadata": {},
   "outputs": [
    {
     "name": "stdout",
     "output_type": "stream",
     "text": [
      "The RMSE for LightGBM Regressor is: 1643.13\n",
      "Wall time: 432 ms\n"
     ]
    }
   ],
   "source": [
    "%%time\n",
    "\n",
    "#LightGBM Regressor\n",
    "lgb_model = lgb.LGBMRegressor(boosting_type='gbdt', max_depth=- 10, n_estimators=190)\n",
    "lgb_model.fit(features_train, target_train)\n",
    "lgb_y_val_pred = lgb_model.predict(features_test)\n",
    "lgb_test_RMSE = (mean_squared_error(target_test, lgb_y_val_pred))**0.5\n",
    "print('The RMSE for LightGBM Regressor is:',round(lgb_test_RMSE,2))"
   ]
  },
  {
   "cell_type": "code",
   "execution_count": 49,
   "id": "37b42ba1",
   "metadata": {},
   "outputs": [
    {
     "name": "stdout",
     "output_type": "stream",
     "text": [
      "Learning rate set to 0.341556\n",
      "0:\tlearn: 3504.2966920\ttotal: 155ms\tremaining: 30.8s\n",
      "10:\tlearn: 1719.2372166\ttotal: 1.64s\tremaining: 28.2s\n",
      "20:\tlearn: 1617.2619894\ttotal: 3.11s\tremaining: 26.5s\n",
      "30:\tlearn: 1558.9578228\ttotal: 4.71s\tremaining: 25.7s\n",
      "40:\tlearn: 1502.9212348\ttotal: 6.24s\tremaining: 24.2s\n",
      "50:\tlearn: 1473.3350125\ttotal: 7.66s\tremaining: 22.4s\n",
      "60:\tlearn: 1430.4269321\ttotal: 9.21s\tremaining: 21s\n",
      "70:\tlearn: 1404.1977101\ttotal: 10.7s\tremaining: 19.5s\n",
      "80:\tlearn: 1382.7018484\ttotal: 12.3s\tremaining: 18.1s\n",
      "90:\tlearn: 1351.9463621\ttotal: 14s\tremaining: 16.8s\n",
      "100:\tlearn: 1329.0350254\ttotal: 15.6s\tremaining: 15.3s\n",
      "110:\tlearn: 1304.8899527\ttotal: 17.1s\tremaining: 13.7s\n",
      "120:\tlearn: 1288.2791685\ttotal: 18.6s\tremaining: 12.2s\n",
      "130:\tlearn: 1269.8714872\ttotal: 20.1s\tremaining: 10.6s\n",
      "140:\tlearn: 1249.7767438\ttotal: 21.6s\tremaining: 9.04s\n",
      "150:\tlearn: 1233.7416185\ttotal: 23.1s\tremaining: 7.5s\n",
      "160:\tlearn: 1220.8538960\ttotal: 24.7s\tremaining: 5.99s\n",
      "170:\tlearn: 1205.5419750\ttotal: 26.5s\tremaining: 4.49s\n",
      "180:\tlearn: 1191.5208681\ttotal: 28.1s\tremaining: 2.95s\n",
      "190:\tlearn: 1177.4092626\ttotal: 29.7s\tremaining: 1.4s\n",
      "199:\tlearn: 1164.3838941\ttotal: 31.1s\tremaining: 0us\n",
      "The RMSE for Catboost Regressor is: 1578.23\n",
      "Wall time: 31.6 s\n"
     ]
    }
   ],
   "source": [
    "%%time\n",
    "\n",
    "#Catboost Regressor\n",
    "cat_features = ['vehicletype', 'model', 'fueltype', 'brand', 'notrepaired_yes', 'gearbox_auto']\n",
    "cb_model = cb.CatBoostRegressor(max_depth=12, iterations=200,cat_features=cat_features,loss_function= \"RMSE\",verbose= 10)\n",
    "cb_model.fit(features_train, target_train)\n",
    "cb_y_val_pred = cb_model.predict(features_test)\n",
    "cb_test_RMSE = (mean_squared_error(target_test, cb_y_val_pred))**0.5\n",
    "print('The RMSE for Catboost Regressor is:',round(cb_test_RMSE,2))"
   ]
  },
  {
   "cell_type": "markdown",
   "id": "893b0029",
   "metadata": {},
   "source": [
    "<div style=\"border:solid black 2px; padding: 20px\"> <b>Note on Analyze the speed and quality of the models:</b><br>\n",
    "After training the models, the model with the highest precision is the one with the lowest RMES value which is the XGBRegressor with ~1573. the model with the shortest time is the LightGBM Regressor."
   ]
  },
  {
   "cell_type": "markdown",
   "id": "472adbe1",
   "metadata": {},
   "source": [
    "## Sanity check<a class=\"anchor\" id=\"sanity\"></a>"
   ]
  },
  {
   "cell_type": "code",
   "execution_count": 50,
   "id": "fda75d68",
   "metadata": {},
   "outputs": [
    {
     "name": "stdout",
     "output_type": "stream",
     "text": [
      "LinearRegression RMES values: 1605.3399451150963\n",
      "Wall time: 116 ms\n"
     ]
    }
   ],
   "source": [
    "%%time\n",
    "reg = LinearRegression().fit(features_train, target_train)\n",
    "y_test_pred = model.predict(features_test)\n",
    "rmes_test_error = (mean_squared_error(target_test, y_test_pred))**0.5\n",
    "print('LinearRegression RMES values:',rmes_test_error)\n"
   ]
  },
  {
   "cell_type": "markdown",
   "id": "cef4f68b",
   "metadata": {},
   "source": [
    "<div style=\"border:solid black 2px; padding: 20px\"> <b>Note on Sanity check:</b><br>\n",
    " In this section we 'trained' our sanity 'model' -LinearRegression using the training dataset. As it turns out, the sanity 'model's' score is slightly higher than our best model's score. Though the difference isn't very much, it does show that XGBRegressor is a step in the right direction."
   ]
  },
  {
   "cell_type": "markdown",
   "id": "93c4741f",
   "metadata": {},
   "source": [
    "## Conclusion<a class=\"anchor\" id=\"conclusion\"></a>\n"
   ]
  },
  {
   "cell_type": "markdown",
   "id": "2ad0b7b7",
   "metadata": {},
   "source": [
    "In this project, I've shown how to predict the price of a car given a dataset using different models with different parameters tuning. the best model is the XGBRegressor, which was the most precise and with a relatively short time of ~5 seconds. \n",
    "However, although the model was the best of all 4, the RMES is still high, around 1500$ where some prices are 100$ meaning a big margin of error. This outcome may be a result of the data wrangling or the converting of the categorical data, in specific the car 'model' feature.\n",
    "In addition, the models did not go through cross-validation during training, which might help the precision. "
   ]
  }
 ],
 "metadata": {
  "kernelspec": {
   "display_name": "Python 3 (ipykernel)",
   "language": "python",
   "name": "python3"
  },
  "language_info": {
   "codemirror_mode": {
    "name": "ipython",
    "version": 3
   },
   "file_extension": ".py",
   "mimetype": "text/x-python",
   "name": "python",
   "nbconvert_exporter": "python",
   "pygments_lexer": "ipython3",
   "version": "3.9.7"
  }
 },
 "nbformat": 4,
 "nbformat_minor": 5
}
